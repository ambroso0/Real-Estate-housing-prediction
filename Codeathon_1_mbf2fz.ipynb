{
  "nbformat": 4,
  "nbformat_minor": 0,
  "metadata": {
    "colab": {
      "provenance": []
    },
    "kernelspec": {
      "display_name": "Python 3",
      "language": "python",
      "name": "python3"
    },
    "language_info": {
      "codemirror_mode": {
        "name": "ipython",
        "version": 3
      },
      "file_extension": ".py",
      "mimetype": "text/x-python",
      "name": "python",
      "nbconvert_exporter": "python",
      "pygments_lexer": "ipython3",
      "version": "3.7.3"
    },
    "nav_menu": {
      "height": "264px",
      "width": "369px"
    },
    "toc": {
      "navigate_menu": true,
      "number_sections": true,
      "sideBar": true,
      "threshold": 6,
      "toc_cell": false,
      "toc_section_display": "block",
      "toc_window_display": false
    }
  },
  "cells": [
    {
      "cell_type": "code",
      "metadata": {
        "id": "2H4pQSdvhcNr"
      },
      "source": [
        "import tensorflow as tf\n",
        "import numpy as np"
      ],
      "execution_count": 1,
      "outputs": []
    },
    {
      "cell_type": "code",
      "source": [
        "np.random.seed(42)\n",
        "tf.random.set_seed(42)"
      ],
      "metadata": {
        "id": "jn0yWWaYWhWw"
      },
      "execution_count": 2,
      "outputs": []
    },
    {
      "cell_type": "markdown",
      "metadata": {
        "id": "NBjvLmtDydS-"
      },
      "source": [
        "First, load the CSV file as a line-by-line text dataset."
      ]
    },
    {
      "cell_type": "code",
      "source": [
        "import os\n",
        "filepath = 'housing.csv'\n",
        "ds = tf.data.TextLineDataset(filepath)  # the most common way of reading a csv file in TF Data API\n",
        "for line in ds.take(5):   # show the first 5 rows of the CSV file\n",
        "    print(line.numpy())   # display each line as a string (as opposed to a tf.Tensor)"
      ],
      "metadata": {
        "colab": {
          "base_uri": "https://localhost:8080/"
        },
        "id": "Oo3FhclRP62X",
        "outputId": "bffa8f46-5f1c-45e8-dbc5-0882fed03625"
      },
      "execution_count": 3,
      "outputs": [
        {
          "output_type": "stream",
          "name": "stdout",
          "text": [
            "b' 0.00632  18.00   2.310  0  0.5380  6.5750  65.20  4.0900   1  296.0  15.30 396.90   4.98  24.00'\n",
            "b' 0.02731   0.00   7.070  0  0.4690  6.4210  78.90  4.9671   2  242.0  17.80 396.90   9.14  21.60'\n",
            "b' 0.02729   0.00   7.070  0  0.4690  7.1850  61.10  4.9671   2  242.0  17.80 392.83   4.03  34.70'\n",
            "b' 0.03237   0.00   2.180  0  0.4580  6.9980  45.80  6.0622   3  222.0  18.70 394.63   2.94  33.40'\n",
            "b' 0.06905   0.00   2.180  0  0.4580  7.1470  54.20  6.0622   3  222.0  18.70 396.90   5.33  36.20'\n"
          ]
        }
      ]
    },
    {
      "cell_type": "markdown",
      "metadata": {
        "id": "31N64jlA5Ual"
      },
      "source": [
        "Create a CSV parser."
      ]
    },
    {
      "cell_type": "code",
      "metadata": {
        "colab": {
          "base_uri": "https://localhost:8080/"
        },
        "id": "Ue_w2BBLzsCQ",
        "outputId": "bd6fd986-b718-4a6f-9b40-8cf5781ff72e"
      },
      "source": [
        "n_columns = 14\n",
        "\n",
        "# @tf.function\n",
        "def parse_csv(line):\n",
        "    '''\n",
        "    function to parse each line of the CSV file\n",
        "    '''\n",
        "    record_defaults=[np.nan]*n_columns  # when there's a missing cell, mark it as NaN (Not a Number)\n",
        "\n",
        "    # The BH dataset does not follow the usual comma-separated format.\n",
        "    # Instead it has multiple whitespaces to separate columns. \n",
        "    line = tf.strings.strip(line)   # strip white spaces at the front and the back of the string\n",
        "    line = tf.strings.regex_replace(line, ' +', ',')   # replace multiple spaces to a single comma\n",
        "\n",
        "    fields = tf.io.decode_csv(line, record_defaults=record_defaults) # parse the columns (fields)\n",
        "    x = tf.stack(fields[:-1])   # the first 13 columns are the independent variables\n",
        "    y = tf.stack(fields[-1:])   # the last column is the dependent variable\n",
        "    return x, y\n",
        "\n",
        "# test if the parser works\n",
        "parse_csv(b' 0.00632  18.00   2.310  0  0.5380  6.5750  65.20  4.0900   1  296.0  15.30 396.90   4.98  24.00')"
      ],
      "execution_count": 5,
      "outputs": [
        {
          "output_type": "execute_result",
          "data": {
            "text/plain": [
              "(<tf.Tensor: shape=(13,), dtype=float32, numpy=\n",
              " array([6.320e-03, 1.800e+01, 2.310e+00, 0.000e+00, 5.380e-01, 6.575e+00,\n",
              "        6.520e+01, 4.090e+00, 1.000e+00, 2.960e+02, 1.530e+01, 3.969e+02,\n",
              "        4.980e+00], dtype=float32)>,\n",
              " <tf.Tensor: shape=(1,), dtype=float32, numpy=array([24.], dtype=float32)>)"
            ]
          },
          "metadata": {},
          "execution_count": 5
        }
      ]
    },
    {
      "cell_type": "markdown",
      "metadata": {
        "id": "MovnNLm-5hdG"
      },
      "source": [
        "Parse each row of the CSV file into a feature vector (x) and a dependent variable (y)."
      ]
    },
    {
      "cell_type": "code",
      "metadata": {
        "colab": {
          "base_uri": "https://localhost:8080/"
        },
        "id": "Av1vrN0t19lU",
        "outputId": "704cec7d-3927-4756-ec16-78334acaa4b4"
      },
      "source": [
        "ds_parsed = ds.map(parse_csv)\n",
        "for x, y in ds_parsed.take(3):   # show the first 3 entries\n",
        "    print('x =', x)\n",
        "    print('y =', y)\n",
        "    print('')"
      ],
      "execution_count": 6,
      "outputs": [
        {
          "output_type": "stream",
          "name": "stdout",
          "text": [
            "x = tf.Tensor(\n",
            "[6.320e-03 1.800e+01 2.310e+00 0.000e+00 5.380e-01 6.575e+00 6.520e+01\n",
            " 4.090e+00 1.000e+00 2.960e+02 1.530e+01 3.969e+02 4.980e+00], shape=(13,), dtype=float32)\n",
            "y = tf.Tensor([24.], shape=(1,), dtype=float32)\n",
            "\n",
            "x = tf.Tensor(\n",
            "[2.7310e-02 0.0000e+00 7.0700e+00 0.0000e+00 4.6900e-01 6.4210e+00\n",
            " 7.8900e+01 4.9671e+00 2.0000e+00 2.4200e+02 1.7800e+01 3.9690e+02\n",
            " 9.1400e+00], shape=(13,), dtype=float32)\n",
            "y = tf.Tensor([21.6], shape=(1,), dtype=float32)\n",
            "\n",
            "x = tf.Tensor(\n",
            "[2.7290e-02 0.0000e+00 7.0700e+00 0.0000e+00 4.6900e-01 7.1850e+00\n",
            " 6.1100e+01 4.9671e+00 2.0000e+00 2.4200e+02 1.7800e+01 3.9283e+02\n",
            " 4.0300e+00], shape=(13,), dtype=float32)\n",
            "y = tf.Tensor([34.7], shape=(1,), dtype=float32)\n",
            "\n"
          ]
        }
      ]
    },
    {
      "cell_type": "markdown",
      "metadata": {
        "id": "N82SREi27YAT"
      },
      "source": [
        "Compute the mean and the standarad deviation"
      ]
    },
    {
      "cell_type": "code",
      "metadata": {
        "colab": {
          "base_uri": "https://localhost:8080/"
        },
        "id": "4QyyYnwZ5wIn",
        "outputId": "39db7d35-622e-4f1f-bff0-7f3d537e2938"
      },
      "source": [
        "feature_mean = tf.zeros((13,))\n",
        "cnt = 0\n",
        "for x, _ in ds_parsed:\n",
        "    feature_mean += x\n",
        "    cnt += 1\n",
        "feature_mean /= cnt\n",
        "\n",
        "print(feature_mean)\n",
        "\n",
        "feature_std = tf.zeros((13,))\n",
        "for x, y in ds_parsed:\n",
        "    feature_std += (x - feature_mean)**2\n",
        "feature_std /= cnt\n",
        "feature_std = tf.math.sqrt(feature_std)\n",
        "\n",
        "print(feature_std)"
      ],
      "execution_count": 7,
      "outputs": [
        {
          "output_type": "stream",
          "name": "stdout",
          "text": [
            "tf.Tensor(\n",
            "[3.6135232e+00 1.1363636e+01 1.1136797e+01 6.9169961e-02 5.5469555e-01\n",
            " 6.2846355e+00 6.8574921e+01 3.7950428e+00 9.5494070e+00 4.0823715e+02\n",
            " 1.8455584e+01 3.5667456e+02 1.2653064e+01], shape=(13,), dtype=float32)\n",
            "tf.Tensor(\n",
            "[8.5930424e+00 2.3299332e+01 6.8535728e+00 2.5374201e-01 1.1576312e-01\n",
            " 7.0192248e-01 2.8121040e+01 2.1036289e+00 8.6986599e+00 1.6837056e+02\n",
            " 2.1628053e+00 9.1204582e+01 7.1340027e+00], shape=(13,), dtype=float32)\n"
          ]
        }
      ]
    },
    {
      "cell_type": "markdown",
      "metadata": {
        "id": "UnmN8yPh8ARJ"
      },
      "source": [
        "Standaradize the data"
      ]
    },
    {
      "cell_type": "code",
      "metadata": {
        "colab": {
          "base_uri": "https://localhost:8080/"
        },
        "id": "NMKVX1hs79YP",
        "outputId": "28b708dc-f759-46f5-808c-a1973eb9bbb7"
      },
      "source": [
        "@tf.function\n",
        "def standardize(x, y):\n",
        "    return (x - feature_mean) / feature_std, y\n",
        "\n",
        "ds_std = ds_parsed.map(standardize)\n",
        "for x, y in ds_std.take(3):\n",
        "    print('x =', x)\n",
        "    print('y =', y)\n",
        "    print('')"
      ],
      "execution_count": 8,
      "outputs": [
        {
          "output_type": "stream",
          "name": "stdout",
          "text": [
            "x = tf.Tensor(\n",
            "[-0.41978186  0.28483066 -1.2879118  -0.27259958 -0.14422174  0.41367\n",
            " -0.12001418  0.14021361 -0.98284185 -0.6666079  -1.4590234   0.44104618\n",
            " -1.0755622 ], shape=(13,), dtype=float32)\n",
            "y = tf.Tensor([24.], shape=(1,), dtype=float32)\n",
            "\n",
            "x = tf.Tensor(\n",
            "[-0.41733918 -0.48772368 -0.5933835  -0.27259958 -0.74026626  0.19427282\n",
            "  0.36716568  0.5571598  -0.8678816  -0.98732907 -0.3031176   0.44104618\n",
            " -0.49243933], shape=(13,), dtype=float32)\n",
            "y = tf.Tensor([21.6], shape=(1,), dtype=float32)\n",
            "\n",
            "x = tf.Tensor(\n",
            "[-0.4173415  -0.48772368 -0.5933835  -0.27259958 -0.74026626  1.282712\n",
            " -0.26581243  0.5571598  -0.8678816  -0.98732907 -0.3031176   0.39642116\n",
            " -1.2087274 ], shape=(13,), dtype=float32)\n",
            "y = tf.Tensor([34.7], shape=(1,), dtype=float32)\n",
            "\n"
          ]
        }
      ]
    },
    {
      "cell_type": "markdown",
      "metadata": {
        "id": "mVhUAbdu9eEz"
      },
      "source": [
        "Split the dataset into train, val, test"
      ]
    },
    {
      "cell_type": "code",
      "metadata": {
        "id": "nqd8_50s9gzx"
      },
      "source": [
        "ds_shuffled = ds_std.shuffle(1024)\n",
        "ds_test = ds_shuffled.take(100)  # the first 100 samples will be set aside for test and validation\n",
        "ds_train = ds_shuffled.skip(100) # the remainder will be used for training\n",
        "\n",
        "ds_val = ds_test.take(50)    # the first 50 among the set-aside samples will be used for validation\n",
        "ds_test = ds_test.skip(50)   # the remainder of the set-aside samples will be used for testing"
      ],
      "execution_count": 9,
      "outputs": []
    },
    {
      "cell_type": "markdown",
      "metadata": {
        "id": "dUYxM0978nvg"
      },
      "source": [
        "(Bonus) Augment the dataset by adding noise. Note that with this simple data augmentation trick, we can achieve a smaller MSE than the case without it."
      ]
    },
    {
      "cell_type": "code",
      "metadata": {
        "colab": {
          "base_uri": "https://localhost:8080/"
        },
        "id": "RsX7TJ5A8nWa",
        "outputId": "a2235545-0b8c-4270-ffc6-5134148934cc"
      },
      "source": [
        "@tf.function\n",
        "def augment(x, y):\n",
        "  return x + tf.random.normal((13,), 0, 0.0005), y\n",
        "\n",
        "ds_train = ds_train.repeat(10).map(augment)  # augment the dataset by 10x\n",
        "for x, y in ds_train.take(3):\n",
        "    print('x =', x)\n",
        "    print('y =', y)\n",
        "    print('')"
      ],
      "execution_count": 10,
      "outputs": [
        {
          "output_type": "stream",
          "name": "stdout",
          "text": [
            "x = tf.Tensor(\n",
            "[-0.3859665  -0.48746437 -0.7204031  -0.2731876  -0.4378134   1.9960691\n",
            " -1.8346875  -0.20042296 -0.17801711 -0.6010033  -0.4878338   0.22889358\n",
            " -1.2237452 ], shape=(13,), dtype=float32)\n",
            "y = tf.Tensor([46.7], shape=(1,), dtype=float32)\n",
            "\n",
            "x = tf.Tensor(\n",
            "[-0.41599774 -0.48748416 -0.8678575  -0.27205208 -0.34285766  0.03522629\n",
            " -1.0690029   1.2668046  -0.5226832  -1.0939199   0.8056515   0.35829353\n",
            " -0.82781696], shape=(13,), dtype=float32)\n",
            "y = tf.Tensor([20.7], shape=(1,), dtype=float32)\n",
            "\n",
            "x = tf.Tensor(\n",
            "[-0.36704722 -0.48732916 -0.71935016 -0.27239266 -0.43721008  1.6063106\n",
            "  0.29641312 -0.05880021 -0.17754577 -0.6007919  -0.4872447   0.21344613\n",
            " -1.0369585 ], shape=(13,), dtype=float32)\n",
            "y = tf.Tensor([31.7], shape=(1,), dtype=float32)\n",
            "\n"
          ]
        }
      ]
    },
    {
      "cell_type": "markdown",
      "metadata": {
        "id": "eXhIdznb9YYD"
      },
      "source": [
        "Batch and prefetch"
      ]
    },
    {
      "cell_type": "code",
      "metadata": {
        "id": "n3QDFhWa9ahf"
      },
      "source": [
        "ds_train = ds_train.batch(32).prefetch(1)\n",
        "ds_val = ds_val.batch(50)   # a single batch containing the entire set\n",
        "ds_test = ds_test.batch(50) # a single batch containing the entire set"
      ],
      "execution_count": 11,
      "outputs": []
    },
    {
      "cell_type": "markdown",
      "metadata": {
        "id": "8YVb575k-jgz"
      },
      "source": [
        "Build, compile, and train the model"
      ]
    },
    {
      "cell_type": "code",
      "metadata": {
        "colab": {
          "base_uri": "https://localhost:8080/"
        },
        "id": "qS6cDWBn-jSI",
        "outputId": "c5d7726b-4d0c-4d54-c493-138cf89e1171"
      },
      "source": [
        "tf.keras.backend.clear_session()\n",
        "\n",
        "model = tf.keras.models.Sequential([\n",
        "    tf.keras.layers.Dense(128, activation=\"relu\", input_shape=(13,)),\n",
        "    tf.keras.layers.Dense(64, activation=\"relu\"),\n",
        "    tf.keras.layers.Dense(32, activation=\"relu\"),\n",
        "    tf.keras.layers.Dense(18, activation=\"relu\"),\n",
        "    tf.keras.layers.Dense(8, activation=\"relu\"),\n",
        "    tf.keras.layers.Dense(1),\n",
        "])\n",
        "\n",
        "model.compile(loss='mse', optimizer=tf.keras.optimizers.Adam(learning_rate=0.001),\n",
        "              metrics = tf.keras.metrics.RootMeanSquaredError(name='rmse',dtype = None))\n",
        "\n",
        "history = model.fit(ds_train, epochs=100, validation_data=ds_val)"
      ],
      "execution_count": 12,
      "outputs": [
        {
          "output_type": "stream",
          "name": "stdout",
          "text": [
            "Epoch 1/100\n",
            "127/127 [==============================] - 3s 10ms/step - loss: 232.4414 - rmse: 15.2460 - val_loss: 24.7265 - val_rmse: 4.9726\n",
            "Epoch 2/100\n",
            "127/127 [==============================] - 1s 6ms/step - loss: 16.8547 - rmse: 4.1055 - val_loss: 7.8304 - val_rmse: 2.7983\n",
            "Epoch 3/100\n",
            "127/127 [==============================] - 1s 10ms/step - loss: 12.3383 - rmse: 3.5126 - val_loss: 19.9391 - val_rmse: 4.4653\n",
            "Epoch 4/100\n",
            "127/127 [==============================] - 1s 11ms/step - loss: 10.6571 - rmse: 3.2645 - val_loss: 12.3778 - val_rmse: 3.5182\n",
            "Epoch 5/100\n",
            "127/127 [==============================] - 1s 6ms/step - loss: 9.5265 - rmse: 3.0865 - val_loss: 18.8806 - val_rmse: 4.3452\n",
            "Epoch 6/100\n",
            "127/127 [==============================] - 1s 6ms/step - loss: 8.5432 - rmse: 2.9229 - val_loss: 8.6767 - val_rmse: 2.9456\n",
            "Epoch 7/100\n",
            "127/127 [==============================] - 1s 6ms/step - loss: 8.0221 - rmse: 2.8323 - val_loss: 6.0499 - val_rmse: 2.4597\n",
            "Epoch 8/100\n",
            "127/127 [==============================] - 1s 6ms/step - loss: 7.3684 - rmse: 2.7145 - val_loss: 7.3695 - val_rmse: 2.7147\n",
            "Epoch 9/100\n",
            "127/127 [==============================] - 1s 6ms/step - loss: 7.1736 - rmse: 2.6784 - val_loss: 8.9016 - val_rmse: 2.9836\n",
            "Epoch 10/100\n",
            "127/127 [==============================] - 1s 6ms/step - loss: 6.2763 - rmse: 2.5053 - val_loss: 6.1980 - val_rmse: 2.4896\n",
            "Epoch 11/100\n",
            "127/127 [==============================] - 1s 6ms/step - loss: 5.8330 - rmse: 2.4152 - val_loss: 5.8781 - val_rmse: 2.4245\n",
            "Epoch 12/100\n",
            "127/127 [==============================] - 1s 10ms/step - loss: 5.4123 - rmse: 2.3264 - val_loss: 5.0396 - val_rmse: 2.2449\n",
            "Epoch 13/100\n",
            "127/127 [==============================] - 1s 6ms/step - loss: 5.0142 - rmse: 2.2392 - val_loss: 4.1698 - val_rmse: 2.0420\n",
            "Epoch 14/100\n",
            "127/127 [==============================] - 1s 6ms/step - loss: 4.5404 - rmse: 2.1308 - val_loss: 3.4278 - val_rmse: 1.8514\n",
            "Epoch 15/100\n",
            "127/127 [==============================] - 1s 6ms/step - loss: 4.3667 - rmse: 2.0897 - val_loss: 3.6037 - val_rmse: 1.8983\n",
            "Epoch 16/100\n",
            "127/127 [==============================] - 1s 7ms/step - loss: 4.0340 - rmse: 2.0085 - val_loss: 4.6286 - val_rmse: 2.1514\n",
            "Epoch 17/100\n",
            "127/127 [==============================] - 1s 6ms/step - loss: 3.5808 - rmse: 1.8923 - val_loss: 2.8904 - val_rmse: 1.7001\n",
            "Epoch 18/100\n",
            "127/127 [==============================] - 1s 6ms/step - loss: 3.8054 - rmse: 1.9507 - val_loss: 2.3647 - val_rmse: 1.5378\n",
            "Epoch 19/100\n",
            "127/127 [==============================] - 1s 6ms/step - loss: 3.3241 - rmse: 1.8232 - val_loss: 2.1779 - val_rmse: 1.4758\n",
            "Epoch 20/100\n",
            "127/127 [==============================] - 1s 6ms/step - loss: 3.1612 - rmse: 1.7780 - val_loss: 5.3639 - val_rmse: 2.3160\n",
            "Epoch 21/100\n",
            "127/127 [==============================] - 1s 11ms/step - loss: 2.9635 - rmse: 1.7215 - val_loss: 4.6209 - val_rmse: 2.1496\n",
            "Epoch 22/100\n",
            "127/127 [==============================] - 1s 6ms/step - loss: 2.8149 - rmse: 1.6778 - val_loss: 3.4591 - val_rmse: 1.8599\n",
            "Epoch 23/100\n",
            "127/127 [==============================] - 1s 6ms/step - loss: 2.8080 - rmse: 1.6757 - val_loss: 1.6798 - val_rmse: 1.2961\n",
            "Epoch 24/100\n",
            "127/127 [==============================] - 1s 6ms/step - loss: 2.4056 - rmse: 1.5510 - val_loss: 2.9895 - val_rmse: 1.7290\n",
            "Epoch 25/100\n",
            "127/127 [==============================] - 1s 6ms/step - loss: 2.2150 - rmse: 1.4883 - val_loss: 2.2326 - val_rmse: 1.4942\n",
            "Epoch 26/100\n",
            "127/127 [==============================] - 1s 6ms/step - loss: 2.2416 - rmse: 1.4972 - val_loss: 2.3104 - val_rmse: 1.5200\n",
            "Epoch 27/100\n",
            "127/127 [==============================] - 1s 6ms/step - loss: 2.0138 - rmse: 1.4191 - val_loss: 1.4764 - val_rmse: 1.2151\n",
            "Epoch 28/100\n",
            "127/127 [==============================] - 1s 6ms/step - loss: 1.9300 - rmse: 1.3893 - val_loss: 1.0673 - val_rmse: 1.0331\n",
            "Epoch 29/100\n",
            "127/127 [==============================] - 1s 9ms/step - loss: 1.8435 - rmse: 1.3578 - val_loss: 0.8412 - val_rmse: 0.9172\n",
            "Epoch 30/100\n",
            "127/127 [==============================] - 1s 11ms/step - loss: 1.8217 - rmse: 1.3497 - val_loss: 1.3890 - val_rmse: 1.1785\n",
            "Epoch 31/100\n",
            "127/127 [==============================] - 1s 6ms/step - loss: 1.5468 - rmse: 1.2437 - val_loss: 1.1784 - val_rmse: 1.0856\n",
            "Epoch 32/100\n",
            "127/127 [==============================] - 1s 6ms/step - loss: 1.5474 - rmse: 1.2439 - val_loss: 0.7783 - val_rmse: 0.8822\n",
            "Epoch 33/100\n",
            "127/127 [==============================] - 1s 6ms/step - loss: 1.4059 - rmse: 1.1857 - val_loss: 1.2042 - val_rmse: 1.0974\n",
            "Epoch 34/100\n",
            "127/127 [==============================] - 1s 6ms/step - loss: 1.3704 - rmse: 1.1707 - val_loss: 1.1829 - val_rmse: 1.0876\n",
            "Epoch 35/100\n",
            "127/127 [==============================] - 1s 7ms/step - loss: 1.2179 - rmse: 1.1036 - val_loss: 1.3392 - val_rmse: 1.1572\n",
            "Epoch 36/100\n",
            "127/127 [==============================] - 1s 6ms/step - loss: 1.3522 - rmse: 1.1628 - val_loss: 1.3597 - val_rmse: 1.1660\n",
            "Epoch 37/100\n",
            "127/127 [==============================] - 1s 6ms/step - loss: 1.3313 - rmse: 1.1538 - val_loss: 0.8671 - val_rmse: 0.9312\n",
            "Epoch 38/100\n",
            "127/127 [==============================] - 1s 6ms/step - loss: 1.1005 - rmse: 1.0491 - val_loss: 1.3148 - val_rmse: 1.1466\n",
            "Epoch 39/100\n",
            "127/127 [==============================] - 1s 9ms/step - loss: 1.0585 - rmse: 1.0288 - val_loss: 0.6363 - val_rmse: 0.7977\n",
            "Epoch 40/100\n",
            "127/127 [==============================] - 1s 10ms/step - loss: 1.0155 - rmse: 1.0077 - val_loss: 1.2036 - val_rmse: 1.0971\n",
            "Epoch 41/100\n",
            "127/127 [==============================] - 1s 8ms/step - loss: 1.0239 - rmse: 1.0119 - val_loss: 1.2829 - val_rmse: 1.1326\n",
            "Epoch 42/100\n",
            "127/127 [==============================] - 1s 6ms/step - loss: 1.0469 - rmse: 1.0232 - val_loss: 0.9235 - val_rmse: 0.9610\n",
            "Epoch 43/100\n",
            "127/127 [==============================] - 1s 6ms/step - loss: 0.9324 - rmse: 0.9656 - val_loss: 0.4263 - val_rmse: 0.6529\n",
            "Epoch 44/100\n",
            "127/127 [==============================] - 1s 6ms/step - loss: 1.1888 - rmse: 1.0903 - val_loss: 1.4034 - val_rmse: 1.1847\n",
            "Epoch 45/100\n",
            "127/127 [==============================] - 1s 6ms/step - loss: 1.0436 - rmse: 1.0216 - val_loss: 1.2326 - val_rmse: 1.1102\n",
            "Epoch 46/100\n",
            "127/127 [==============================] - 1s 6ms/step - loss: 0.8229 - rmse: 0.9071 - val_loss: 0.7352 - val_rmse: 0.8575\n",
            "Epoch 47/100\n",
            "127/127 [==============================] - 1s 11ms/step - loss: 0.7561 - rmse: 0.8695 - val_loss: 1.1796 - val_rmse: 1.0861\n",
            "Epoch 48/100\n",
            "127/127 [==============================] - 2s 17ms/step - loss: 0.7330 - rmse: 0.8561 - val_loss: 0.3222 - val_rmse: 0.5676\n",
            "Epoch 49/100\n",
            "127/127 [==============================] - 2s 15ms/step - loss: 0.7077 - rmse: 0.8412 - val_loss: 0.7083 - val_rmse: 0.8416\n",
            "Epoch 50/100\n",
            "127/127 [==============================] - 2s 13ms/step - loss: 0.7054 - rmse: 0.8399 - val_loss: 0.6768 - val_rmse: 0.8227\n",
            "Epoch 51/100\n",
            "127/127 [==============================] - 1s 10ms/step - loss: 0.6445 - rmse: 0.8028 - val_loss: 1.0565 - val_rmse: 1.0279\n",
            "Epoch 52/100\n",
            "127/127 [==============================] - 2s 13ms/step - loss: 0.7401 - rmse: 0.8603 - val_loss: 0.2564 - val_rmse: 0.5064\n",
            "Epoch 53/100\n",
            "127/127 [==============================] - 2s 12ms/step - loss: 0.7745 - rmse: 0.8800 - val_loss: 0.4301 - val_rmse: 0.6558\n",
            "Epoch 54/100\n",
            "127/127 [==============================] - 3s 20ms/step - loss: 0.6164 - rmse: 0.7851 - val_loss: 0.4170 - val_rmse: 0.6458\n",
            "Epoch 55/100\n",
            "127/127 [==============================] - 1s 6ms/step - loss: 0.6685 - rmse: 0.8176 - val_loss: 0.9024 - val_rmse: 0.9499\n",
            "Epoch 56/100\n",
            "127/127 [==============================] - 1s 8ms/step - loss: 0.6191 - rmse: 0.7868 - val_loss: 0.6441 - val_rmse: 0.8025\n",
            "Epoch 57/100\n",
            "127/127 [==============================] - 1s 6ms/step - loss: 0.6036 - rmse: 0.7769 - val_loss: 0.8208 - val_rmse: 0.9060\n",
            "Epoch 58/100\n",
            "127/127 [==============================] - 1s 6ms/step - loss: 0.7255 - rmse: 0.8518 - val_loss: 0.2543 - val_rmse: 0.5043\n",
            "Epoch 59/100\n",
            "127/127 [==============================] - 1s 6ms/step - loss: 0.5388 - rmse: 0.7340 - val_loss: 0.5353 - val_rmse: 0.7317\n",
            "Epoch 60/100\n",
            "127/127 [==============================] - 1s 7ms/step - loss: 0.5880 - rmse: 0.7668 - val_loss: 0.4703 - val_rmse: 0.6858\n",
            "Epoch 61/100\n",
            "127/127 [==============================] - 1s 6ms/step - loss: 0.5161 - rmse: 0.7184 - val_loss: 0.3455 - val_rmse: 0.5878\n",
            "Epoch 62/100\n",
            "127/127 [==============================] - 1s 11ms/step - loss: 0.4823 - rmse: 0.6945 - val_loss: 0.5645 - val_rmse: 0.7514\n",
            "Epoch 63/100\n",
            "127/127 [==============================] - 1s 6ms/step - loss: 0.4065 - rmse: 0.6376 - val_loss: 0.3758 - val_rmse: 0.6130\n",
            "Epoch 64/100\n",
            "127/127 [==============================] - 1s 6ms/step - loss: 0.5166 - rmse: 0.7187 - val_loss: 0.6359 - val_rmse: 0.7975\n",
            "Epoch 65/100\n",
            "127/127 [==============================] - 1s 6ms/step - loss: 0.5890 - rmse: 0.7674 - val_loss: 0.8293 - val_rmse: 0.9106\n",
            "Epoch 66/100\n",
            "127/127 [==============================] - 1s 6ms/step - loss: 0.4895 - rmse: 0.6997 - val_loss: 0.1803 - val_rmse: 0.4247\n",
            "Epoch 67/100\n",
            "127/127 [==============================] - 1s 6ms/step - loss: 0.5097 - rmse: 0.7139 - val_loss: 0.4463 - val_rmse: 0.6680\n",
            "Epoch 68/100\n",
            "127/127 [==============================] - 1s 6ms/step - loss: 0.6769 - rmse: 0.8228 - val_loss: 0.3179 - val_rmse: 0.5638\n",
            "Epoch 69/100\n",
            "127/127 [==============================] - 1s 6ms/step - loss: 0.3893 - rmse: 0.6239 - val_loss: 0.2921 - val_rmse: 0.5405\n",
            "Epoch 70/100\n",
            "127/127 [==============================] - 1s 6ms/step - loss: 0.3847 - rmse: 0.6202 - val_loss: 0.3806 - val_rmse: 0.6169\n",
            "Epoch 71/100\n",
            "127/127 [==============================] - 1s 11ms/step - loss: 0.4665 - rmse: 0.6830 - val_loss: 0.4530 - val_rmse: 0.6731\n",
            "Epoch 72/100\n",
            "127/127 [==============================] - 1s 11ms/step - loss: 0.4215 - rmse: 0.6492 - val_loss: 0.2691 - val_rmse: 0.5188\n",
            "Epoch 73/100\n",
            "127/127 [==============================] - 1s 10ms/step - loss: 0.3589 - rmse: 0.5991 - val_loss: 0.4208 - val_rmse: 0.6487\n",
            "Epoch 74/100\n",
            "127/127 [==============================] - 1s 10ms/step - loss: 0.3970 - rmse: 0.6301 - val_loss: 0.2910 - val_rmse: 0.5394\n",
            "Epoch 75/100\n",
            "127/127 [==============================] - 1s 7ms/step - loss: 0.4402 - rmse: 0.6635 - val_loss: 0.2556 - val_rmse: 0.5055\n",
            "Epoch 76/100\n",
            "127/127 [==============================] - 1s 7ms/step - loss: 0.3620 - rmse: 0.6017 - val_loss: 0.6017 - val_rmse: 0.7757\n",
            "Epoch 77/100\n",
            "127/127 [==============================] - 1s 6ms/step - loss: 0.6563 - rmse: 0.8101 - val_loss: 0.3605 - val_rmse: 0.6004\n",
            "Epoch 78/100\n",
            "127/127 [==============================] - 1s 6ms/step - loss: 0.4448 - rmse: 0.6669 - val_loss: 0.1820 - val_rmse: 0.4266\n",
            "Epoch 79/100\n",
            "127/127 [==============================] - 1s 11ms/step - loss: 0.2750 - rmse: 0.5244 - val_loss: 0.2027 - val_rmse: 0.4502\n",
            "Epoch 80/100\n",
            "127/127 [==============================] - 1s 6ms/step - loss: 0.3865 - rmse: 0.6217 - val_loss: 0.2629 - val_rmse: 0.5127\n",
            "Epoch 81/100\n",
            "127/127 [==============================] - 1s 6ms/step - loss: 0.2944 - rmse: 0.5426 - val_loss: 0.3719 - val_rmse: 0.6098\n",
            "Epoch 82/100\n",
            "127/127 [==============================] - 1s 6ms/step - loss: 0.3055 - rmse: 0.5527 - val_loss: 0.1582 - val_rmse: 0.3977\n",
            "Epoch 83/100\n",
            "127/127 [==============================] - 1s 7ms/step - loss: 0.2739 - rmse: 0.5234 - val_loss: 0.2404 - val_rmse: 0.4903\n",
            "Epoch 84/100\n",
            "127/127 [==============================] - 1s 6ms/step - loss: 0.3699 - rmse: 0.6082 - val_loss: 0.1656 - val_rmse: 0.4070\n",
            "Epoch 85/100\n",
            "127/127 [==============================] - 1s 6ms/step - loss: 0.3188 - rmse: 0.5647 - val_loss: 0.2810 - val_rmse: 0.5300\n",
            "Epoch 86/100\n",
            "127/127 [==============================] - 1s 6ms/step - loss: 0.2957 - rmse: 0.5437 - val_loss: 0.1418 - val_rmse: 0.3765\n",
            "Epoch 87/100\n",
            "127/127 [==============================] - 1s 7ms/step - loss: 0.2887 - rmse: 0.5373 - val_loss: 0.3100 - val_rmse: 0.5568\n",
            "Epoch 88/100\n",
            "127/127 [==============================] - 1s 11ms/step - loss: 0.3426 - rmse: 0.5853 - val_loss: 0.8850 - val_rmse: 0.9407\n",
            "Epoch 89/100\n",
            "127/127 [==============================] - 1s 11ms/step - loss: 0.3953 - rmse: 0.6287 - val_loss: 0.1687 - val_rmse: 0.4107\n",
            "Epoch 90/100\n",
            "127/127 [==============================] - 1s 6ms/step - loss: 0.1844 - rmse: 0.4295 - val_loss: 0.4927 - val_rmse: 0.7020\n",
            "Epoch 91/100\n",
            "127/127 [==============================] - 1s 6ms/step - loss: 0.3825 - rmse: 0.6184 - val_loss: 0.1817 - val_rmse: 0.4262\n",
            "Epoch 92/100\n",
            "127/127 [==============================] - 1s 6ms/step - loss: 0.1810 - rmse: 0.4254 - val_loss: 0.1519 - val_rmse: 0.3897\n",
            "Epoch 93/100\n",
            "127/127 [==============================] - 1s 7ms/step - loss: 0.2328 - rmse: 0.4825 - val_loss: 0.2597 - val_rmse: 0.5096\n",
            "Epoch 94/100\n",
            "127/127 [==============================] - 1s 6ms/step - loss: 0.3128 - rmse: 0.5593 - val_loss: 0.1728 - val_rmse: 0.4157\n",
            "Epoch 95/100\n",
            "127/127 [==============================] - 1s 6ms/step - loss: 0.2005 - rmse: 0.4478 - val_loss: 0.1894 - val_rmse: 0.4352\n",
            "Epoch 96/100\n",
            "127/127 [==============================] - 1s 6ms/step - loss: 0.3347 - rmse: 0.5786 - val_loss: 0.2936 - val_rmse: 0.5418\n",
            "Epoch 97/100\n",
            "127/127 [==============================] - 1s 7ms/step - loss: 0.2263 - rmse: 0.4757 - val_loss: 0.3114 - val_rmse: 0.5581\n",
            "Epoch 98/100\n",
            "127/127 [==============================] - 1s 11ms/step - loss: 0.2031 - rmse: 0.4507 - val_loss: 0.3663 - val_rmse: 0.6052\n",
            "Epoch 99/100\n",
            "127/127 [==============================] - 1s 6ms/step - loss: 0.2952 - rmse: 0.5433 - val_loss: 0.1620 - val_rmse: 0.4025\n",
            "Epoch 100/100\n",
            "127/127 [==============================] - 1s 6ms/step - loss: 0.1801 - rmse: 0.4244 - val_loss: 0.3633 - val_rmse: 0.6028\n"
          ]
        }
      ]
    },
    {
      "cell_type": "code",
      "metadata": {
        "colab": {
          "base_uri": "https://localhost:8080/",
          "height": 282
        },
        "id": "lDTTBM0lBB7m",
        "outputId": "cb4852d3-ce57-4b42-df62-c9b53498bfa7"
      },
      "source": [
        "import matplotlib.pyplot as plt\n",
        "\n",
        "plt.plot(history.history['loss'],label = \"loss\")\n",
        "plt.plot(history.history['val_loss'], label = \"val_loss\")\n",
        "plt.plot(history.history['rmse'], label = \"RMSE\")\n",
        "plt.legend(loc=\"upper right\")"
      ],
      "execution_count": 13,
      "outputs": [
        {
          "output_type": "execute_result",
          "data": {
            "text/plain": [
              "<matplotlib.legend.Legend at 0x7fcb3682feb0>"
            ]
          },
          "metadata": {},
          "execution_count": 13
        },
        {
          "output_type": "display_data",
          "data": {
            "text/plain": [
              "<Figure size 432x288 with 1 Axes>"
            ],
            "image/png": "[encoded data removed]"
          },
          "metadata": {
            "needs_background": "light"
          }
        }
      ]
    },
    {
      "cell_type": "code",
      "metadata": {
        "colab": {
          "base_uri": "https://localhost:8080/"
        },
        "id": "2spqI507--e7",
        "outputId": "87eaa173-5fd0-4489-b7f8-16b39f20dcd3"
      },
      "source": [
        "model.evaluate(ds_test)"
      ],
      "execution_count": 14,
      "outputs": [
        {
          "output_type": "stream",
          "name": "stdout",
          "text": [
            "1/1 [==============================] - 0s 159ms/step - loss: 0.3440 - rmse: 0.5865\n"
          ]
        },
        {
          "output_type": "execute_result",
          "data": {
            "text/plain": [
              "[0.34402230381965637, 0.5865341424942017]"
            ]
          },
          "metadata": {},
          "execution_count": 14
        }
      ]
    },
    {
      "cell_type": "markdown",
      "source": [
        "Seems like the loss and rmse could still be improved. I will try the model above with 200 epochs. "
      ],
      "metadata": {
        "id": "BcZcL7-dHdT_"
      }
    },
    {
      "cell_type": "code",
      "metadata": {
        "colab": {
          "base_uri": "https://localhost:8080/"
        },
        "outputId": "f8aabb51-277f-400e-9cfa-fbfa685f56a7",
        "id": "qa5voCtN4VBb"
      },
      "source": [
        "tf.keras.backend.clear_session()\n",
        "\n",
        "model = tf.keras.models.Sequential([\n",
        "    tf.keras.layers.Dense(128, activation=\"relu\", input_shape=(13,)),\n",
        "    tf.keras.layers.Dense(64, activation=\"relu\"),\n",
        "    tf.keras.layers.Dense(32, activation=\"relu\"),\n",
        "    tf.keras.layers.Dense(18, activation=\"relu\"),\n",
        "    tf.keras.layers.Dense(8, activation=\"relu\"),\n",
        "    tf.keras.layers.Dense(1),\n",
        "])\n",
        "\n",
        "model.compile(loss='mse', optimizer=tf.keras.optimizers.Adam(learning_rate=0.001),\n",
        "              metrics = tf.keras.metrics.RootMeanSquaredError(name='rmse',dtype = None))\n",
        "\n",
        "history = model.fit(ds_train, epochs=200, validation_data=ds_val)"
      ],
      "execution_count": null,
      "outputs": [
        {
          "output_type": "stream",
          "name": "stdout",
          "text": [
            "Epoch 1/200\n",
            "127/127 [==============================] - 3s 11ms/step - loss: 157.6161 - rmse: 12.5545 - val_loss: 19.7287 - val_rmse: 4.4417\n",
            "Epoch 2/200\n",
            "127/127 [==============================] - 2s 11ms/step - loss: 14.3281 - rmse: 3.7852 - val_loss: 7.5912 - val_rmse: 2.7552\n",
            "Epoch 3/200\n",
            "127/127 [==============================] - 1s 6ms/step - loss: 11.3528 - rmse: 3.3694 - val_loss: 18.9310 - val_rmse: 4.3510\n",
            "Epoch 4/200\n",
            "127/127 [==============================] - 1s 7ms/step - loss: 9.1113 - rmse: 3.0185 - val_loss: 9.9141 - val_rmse: 3.1487\n",
            "Epoch 5/200\n",
            "127/127 [==============================] - 1s 7ms/step - loss: 7.2149 - rmse: 2.6861 - val_loss: 10.7225 - val_rmse: 3.2745\n",
            "Epoch 6/200\n",
            "127/127 [==============================] - 1s 6ms/step - loss: 5.7334 - rmse: 2.3944 - val_loss: 5.7429 - val_rmse: 2.3964\n",
            "Epoch 7/200\n",
            "127/127 [==============================] - 1s 7ms/step - loss: 4.7397 - rmse: 2.1771 - val_loss: 4.4717 - val_rmse: 2.1146\n",
            "Epoch 8/200\n",
            "127/127 [==============================] - 1s 6ms/step - loss: 4.1456 - rmse: 2.0361 - val_loss: 2.9718 - val_rmse: 1.7239\n",
            "Epoch 9/200\n",
            "127/127 [==============================] - 1s 6ms/step - loss: 3.8477 - rmse: 1.9616 - val_loss: 4.2076 - val_rmse: 2.0513\n",
            "Epoch 10/200\n",
            "127/127 [==============================] - 1s 7ms/step - loss: 3.3608 - rmse: 1.8333 - val_loss: 3.1468 - val_rmse: 1.7739\n",
            "Epoch 11/200\n",
            "127/127 [==============================] - 2s 11ms/step - loss: 2.9566 - rmse: 1.7195 - val_loss: 3.0618 - val_rmse: 1.7498\n",
            "Epoch 12/200\n",
            "127/127 [==============================] - 1s 9ms/step - loss: 2.6126 - rmse: 1.6164 - val_loss: 2.1902 - val_rmse: 1.4799\n",
            "Epoch 13/200\n",
            "127/127 [==============================] - 1s 9ms/step - loss: 2.4199 - rmse: 1.5556 - val_loss: 2.1001 - val_rmse: 1.4492\n",
            "Epoch 14/200\n",
            "127/127 [==============================] - 2s 12ms/step - loss: 2.1733 - rmse: 1.4742 - val_loss: 2.3721 - val_rmse: 1.5402\n",
            "Epoch 15/200\n",
            "127/127 [==============================] - 1s 8ms/step - loss: 2.0550 - rmse: 1.4335 - val_loss: 1.5189 - val_rmse: 1.2324\n",
            "Epoch 16/200\n",
            "127/127 [==============================] - 1s 6ms/step - loss: 1.8902 - rmse: 1.3748 - val_loss: 1.4939 - val_rmse: 1.2223\n",
            "Epoch 17/200\n",
            "127/127 [==============================] - 1s 7ms/step - loss: 1.6191 - rmse: 1.2724 - val_loss: 1.2674 - val_rmse: 1.1258\n",
            "Epoch 18/200\n",
            "127/127 [==============================] - 1s 6ms/step - loss: 1.8309 - rmse: 1.3531 - val_loss: 1.0903 - val_rmse: 1.0442\n",
            "Epoch 19/200\n",
            "127/127 [==============================] - 1s 6ms/step - loss: 1.4685 - rmse: 1.2118 - val_loss: 0.8822 - val_rmse: 0.9392\n",
            "Epoch 20/200\n",
            "127/127 [==============================] - 1s 9ms/step - loss: 1.4048 - rmse: 1.1852 - val_loss: 1.2550 - val_rmse: 1.1203\n",
            "Epoch 21/200\n",
            "127/127 [==============================] - 2s 11ms/step - loss: 1.2882 - rmse: 1.1350 - val_loss: 2.1259 - val_rmse: 1.4581\n",
            "Epoch 22/200\n",
            "127/127 [==============================] - 1s 6ms/step - loss: 1.3481 - rmse: 1.1611 - val_loss: 2.4140 - val_rmse: 1.5537\n",
            "Epoch 23/200\n",
            "127/127 [==============================] - 1s 7ms/step - loss: 1.4556 - rmse: 1.2065 - val_loss: 0.6864 - val_rmse: 0.8285\n",
            "Epoch 24/200\n",
            "127/127 [==============================] - 1s 7ms/step - loss: 1.1467 - rmse: 1.0709 - val_loss: 1.1222 - val_rmse: 1.0594\n",
            "Epoch 25/200\n",
            "127/127 [==============================] - 1s 7ms/step - loss: 1.0590 - rmse: 1.0291 - val_loss: 0.7515 - val_rmse: 0.8669\n",
            "Epoch 26/200\n",
            "127/127 [==============================] - 1s 6ms/step - loss: 1.0766 - rmse: 1.0376 - val_loss: 0.9820 - val_rmse: 0.9910\n",
            "Epoch 27/200\n",
            "127/127 [==============================] - 1s 6ms/step - loss: 1.0707 - rmse: 1.0348 - val_loss: 0.8711 - val_rmse: 0.9333\n",
            "Epoch 28/200\n",
            "127/127 [==============================] - 1s 6ms/step - loss: 0.9777 - rmse: 0.9888 - val_loss: 0.7905 - val_rmse: 0.8891\n",
            "Epoch 29/200\n",
            "127/127 [==============================] - 1s 8ms/step - loss: 0.9942 - rmse: 0.9971 - val_loss: 0.5680 - val_rmse: 0.7537\n",
            "Epoch 30/200\n",
            "127/127 [==============================] - 1s 11ms/step - loss: 0.9370 - rmse: 0.9680 - val_loss: 0.9900 - val_rmse: 0.9950\n",
            "Epoch 31/200\n",
            "127/127 [==============================] - 1s 6ms/step - loss: 0.8084 - rmse: 0.8991 - val_loss: 0.5521 - val_rmse: 0.7431\n",
            "Epoch 32/200\n",
            "127/127 [==============================] - 1s 7ms/step - loss: 0.8078 - rmse: 0.8988 - val_loss: 1.0400 - val_rmse: 1.0198\n",
            "Epoch 33/200\n",
            "127/127 [==============================] - 1s 6ms/step - loss: 0.7192 - rmse: 0.8481 - val_loss: 0.6999 - val_rmse: 0.8366\n",
            "Epoch 34/200\n",
            "127/127 [==============================] - 1s 7ms/step - loss: 1.0226 - rmse: 1.0112 - val_loss: 0.6184 - val_rmse: 0.7864\n",
            "Epoch 35/200\n",
            "127/127 [==============================] - 1s 6ms/step - loss: 0.7473 - rmse: 0.8645 - val_loss: 0.4209 - val_rmse: 0.6488\n",
            "Epoch 36/200\n",
            "127/127 [==============================] - 1s 7ms/step - loss: 0.7199 - rmse: 0.8485 - val_loss: 0.8466 - val_rmse: 0.9201\n",
            "Epoch 37/200\n",
            "127/127 [==============================] - 1s 6ms/step - loss: 0.7615 - rmse: 0.8727 - val_loss: 0.6986 - val_rmse: 0.8358\n",
            "Epoch 38/200\n",
            "127/127 [==============================] - 1s 10ms/step - loss: 0.6110 - rmse: 0.7816 - val_loss: 1.0271 - val_rmse: 1.0135\n",
            "Epoch 39/200\n",
            "127/127 [==============================] - 1s 10ms/step - loss: 1.0157 - rmse: 1.0078 - val_loss: 0.6899 - val_rmse: 0.8306\n",
            "Epoch 40/200\n",
            "127/127 [==============================] - 1s 7ms/step - loss: 0.6656 - rmse: 0.8158 - val_loss: 0.3995 - val_rmse: 0.6321\n",
            "Epoch 41/200\n",
            "127/127 [==============================] - 1s 6ms/step - loss: 0.5767 - rmse: 0.7594 - val_loss: 1.0038 - val_rmse: 1.0019\n",
            "Epoch 42/200\n",
            "127/127 [==============================] - 1s 6ms/step - loss: 0.7655 - rmse: 0.8749 - val_loss: 0.5600 - val_rmse: 0.7483\n",
            "Epoch 43/200\n",
            "127/127 [==============================] - 1s 6ms/step - loss: 0.5190 - rmse: 0.7204 - val_loss: 0.2981 - val_rmse: 0.5460\n",
            "Epoch 44/200\n",
            "127/127 [==============================] - 1s 6ms/step - loss: 0.4673 - rmse: 0.6836 - val_loss: 0.5877 - val_rmse: 0.7666\n",
            "Epoch 45/200\n",
            "127/127 [==============================] - 1s 7ms/step - loss: 0.6482 - rmse: 0.8051 - val_loss: 0.9171 - val_rmse: 0.9577\n",
            "Epoch 46/200\n",
            "127/127 [==============================] - 1s 6ms/step - loss: 0.5103 - rmse: 0.7143 - val_loss: 0.4750 - val_rmse: 0.6892\n",
            "Epoch 47/200\n",
            "127/127 [==============================] - 1s 7ms/step - loss: 0.5588 - rmse: 0.7475 - val_loss: 0.6542 - val_rmse: 0.8088\n",
            "Epoch 48/200\n",
            "127/127 [==============================] - 1s 11ms/step - loss: 0.4877 - rmse: 0.6983 - val_loss: 0.5037 - val_rmse: 0.7098\n",
            "Epoch 49/200\n",
            "127/127 [==============================] - 1s 6ms/step - loss: 0.4542 - rmse: 0.6739 - val_loss: 0.4878 - val_rmse: 0.6984\n",
            "Epoch 50/200\n",
            "127/127 [==============================] - 1s 6ms/step - loss: 0.5304 - rmse: 0.7283 - val_loss: 1.1448 - val_rmse: 1.0700\n",
            "Epoch 51/200\n",
            "127/127 [==============================] - 1s 6ms/step - loss: 0.6128 - rmse: 0.7828 - val_loss: 0.5645 - val_rmse: 0.7513\n",
            "Epoch 52/200\n",
            "127/127 [==============================] - 1s 7ms/step - loss: 0.4258 - rmse: 0.6525 - val_loss: 0.3340 - val_rmse: 0.5779\n",
            "Epoch 53/200\n",
            "127/127 [==============================] - 1s 6ms/step - loss: 0.5806 - rmse: 0.7620 - val_loss: 0.2908 - val_rmse: 0.5392\n",
            "Epoch 54/200\n",
            "127/127 [==============================] - 1s 7ms/step - loss: 0.3603 - rmse: 0.6003 - val_loss: 0.2627 - val_rmse: 0.5125\n",
            "Epoch 55/200\n",
            "127/127 [==============================] - 1s 6ms/step - loss: 0.4507 - rmse: 0.6713 - val_loss: 0.5848 - val_rmse: 0.7647\n",
            "Epoch 56/200\n",
            "127/127 [==============================] - 1s 7ms/step - loss: 0.4437 - rmse: 0.6661 - val_loss: 0.2962 - val_rmse: 0.5443\n",
            "Epoch 57/200\n",
            "127/127 [==============================] - 1s 11ms/step - loss: 0.3460 - rmse: 0.5882 - val_loss: 0.3404 - val_rmse: 0.5834\n",
            "Epoch 58/200\n",
            "127/127 [==============================] - 1s 6ms/step - loss: 0.4592 - rmse: 0.6776 - val_loss: 0.1488 - val_rmse: 0.3857\n",
            "Epoch 59/200\n",
            "127/127 [==============================] - 1s 6ms/step - loss: 0.3652 - rmse: 0.6043 - val_loss: 0.4404 - val_rmse: 0.6636\n",
            "Epoch 60/200\n",
            "127/127 [==============================] - 1s 6ms/step - loss: 0.3385 - rmse: 0.5818 - val_loss: 0.4235 - val_rmse: 0.6508\n",
            "Epoch 61/200\n",
            "127/127 [==============================] - 1s 6ms/step - loss: 0.3213 - rmse: 0.5669 - val_loss: 0.1138 - val_rmse: 0.3373\n",
            "Epoch 62/200\n",
            "127/127 [==============================] - 1s 7ms/step - loss: 0.5401 - rmse: 0.7349 - val_loss: 0.5837 - val_rmse: 0.7640\n",
            "Epoch 63/200\n",
            "127/127 [==============================] - 1s 6ms/step - loss: 0.3515 - rmse: 0.5929 - val_loss: 0.2825 - val_rmse: 0.5315\n",
            "Epoch 64/200\n",
            "127/127 [==============================] - 1s 6ms/step - loss: 0.3542 - rmse: 0.5952 - val_loss: 0.2351 - val_rmse: 0.4849\n",
            "Epoch 65/200\n",
            "127/127 [==============================] - 1s 6ms/step - loss: 0.2576 - rmse: 0.5075 - val_loss: 0.1980 - val_rmse: 0.4450\n",
            "Epoch 66/200\n",
            "127/127 [==============================] - 1s 11ms/step - loss: 0.2638 - rmse: 0.5136 - val_loss: 0.1580 - val_rmse: 0.3975\n",
            "Epoch 67/200\n",
            "127/127 [==============================] - 1s 6ms/step - loss: 0.3369 - rmse: 0.5804 - val_loss: 0.3055 - val_rmse: 0.5527\n",
            "Epoch 68/200\n",
            "127/127 [==============================] - 1s 6ms/step - loss: 0.3622 - rmse: 0.6019 - val_loss: 0.1293 - val_rmse: 0.3596\n",
            "Epoch 69/200\n",
            "127/127 [==============================] - 1s 6ms/step - loss: 0.2846 - rmse: 0.5335 - val_loss: 0.2567 - val_rmse: 0.5067\n",
            "Epoch 70/200\n",
            "127/127 [==============================] - 1s 6ms/step - loss: 0.4796 - rmse: 0.6925 - val_loss: 0.7125 - val_rmse: 0.8441\n",
            "Epoch 71/200\n",
            "127/127 [==============================] - 1s 6ms/step - loss: 0.3957 - rmse: 0.6290 - val_loss: 0.2586 - val_rmse: 0.5085\n",
            "Epoch 72/200\n",
            "127/127 [==============================] - 1s 6ms/step - loss: 0.2309 - rmse: 0.4805 - val_loss: 0.1281 - val_rmse: 0.3579\n",
            "Epoch 73/200\n",
            "127/127 [==============================] - 1s 7ms/step - loss: 0.2050 - rmse: 0.4528 - val_loss: 0.2392 - val_rmse: 0.4891\n",
            "Epoch 74/200\n",
            "127/127 [==============================] - 1s 6ms/step - loss: 0.2682 - rmse: 0.5179 - val_loss: 0.1106 - val_rmse: 0.3326\n",
            "Epoch 75/200\n",
            "127/127 [==============================] - 1s 11ms/step - loss: 0.2141 - rmse: 0.4627 - val_loss: 0.1236 - val_rmse: 0.3516\n",
            "Epoch 76/200\n",
            "127/127 [==============================] - 1s 6ms/step - loss: 0.3440 - rmse: 0.5865 - val_loss: 0.4247 - val_rmse: 0.6517\n",
            "Epoch 77/200\n",
            "127/127 [==============================] - 1s 6ms/step - loss: 0.4252 - rmse: 0.6521 - val_loss: 0.2465 - val_rmse: 0.4965\n",
            "Epoch 78/200\n",
            "127/127 [==============================] - 1s 7ms/step - loss: 0.2296 - rmse: 0.4792 - val_loss: 0.1027 - val_rmse: 0.3205\n",
            "Epoch 79/200\n",
            "127/127 [==============================] - 1s 6ms/step - loss: 0.1801 - rmse: 0.4244 - val_loss: 0.1786 - val_rmse: 0.4226\n",
            "Epoch 80/200\n",
            "127/127 [==============================] - 1s 6ms/step - loss: 0.3984 - rmse: 0.6312 - val_loss: 2.1701 - val_rmse: 1.4731\n",
            "Epoch 81/200\n",
            "127/127 [==============================] - 1s 6ms/step - loss: 0.4244 - rmse: 0.6514 - val_loss: 0.2662 - val_rmse: 0.5160\n",
            "Epoch 82/200\n",
            "127/127 [==============================] - 1s 7ms/step - loss: 0.2163 - rmse: 0.4651 - val_loss: 0.1510 - val_rmse: 0.3886\n",
            "Epoch 83/200\n",
            "127/127 [==============================] - 1s 7ms/step - loss: 0.2032 - rmse: 0.4507 - val_loss: 0.3004 - val_rmse: 0.5480\n",
            "Epoch 84/200\n",
            "127/127 [==============================] - 1s 11ms/step - loss: 0.2442 - rmse: 0.4942 - val_loss: 0.1569 - val_rmse: 0.3961\n",
            "Epoch 85/200\n",
            "127/127 [==============================] - 1s 7ms/step - loss: 0.1986 - rmse: 0.4456 - val_loss: 0.1113 - val_rmse: 0.3336\n",
            "Epoch 86/200\n",
            "127/127 [==============================] - 1s 6ms/step - loss: 0.2225 - rmse: 0.4717 - val_loss: 0.1684 - val_rmse: 0.4104\n",
            "Epoch 87/200\n",
            "127/127 [==============================] - 1s 6ms/step - loss: 0.2562 - rmse: 0.5061 - val_loss: 0.3176 - val_rmse: 0.5636\n",
            "Epoch 88/200\n",
            "127/127 [==============================] - 1s 6ms/step - loss: 0.2039 - rmse: 0.4515 - val_loss: 0.3289 - val_rmse: 0.5735\n",
            "Epoch 89/200\n",
            "127/127 [==============================] - 1s 7ms/step - loss: 0.3746 - rmse: 0.6121 - val_loss: 0.1674 - val_rmse: 0.4091\n",
            "Epoch 90/200\n",
            "127/127 [==============================] - 1s 6ms/step - loss: 0.1970 - rmse: 0.4439 - val_loss: 0.7035 - val_rmse: 0.8387\n",
            "Epoch 91/200\n",
            "127/127 [==============================] - 1s 6ms/step - loss: 0.3251 - rmse: 0.5702 - val_loss: 0.1334 - val_rmse: 0.3653\n",
            "Epoch 92/200\n",
            "127/127 [==============================] - 1s 6ms/step - loss: 0.1857 - rmse: 0.4309 - val_loss: 0.0994 - val_rmse: 0.3153\n",
            "Epoch 93/200\n",
            "127/127 [==============================] - 1s 11ms/step - loss: 0.1885 - rmse: 0.4342 - val_loss: 0.2696 - val_rmse: 0.5192\n",
            "Epoch 94/200\n",
            "127/127 [==============================] - 1s 6ms/step - loss: 0.2201 - rmse: 0.4692 - val_loss: 0.1601 - val_rmse: 0.4001\n",
            "Epoch 95/200\n",
            "127/127 [==============================] - 1s 6ms/step - loss: 0.1864 - rmse: 0.4317 - val_loss: 0.4317 - val_rmse: 0.6570\n",
            "Epoch 96/200\n",
            "127/127 [==============================] - 1s 6ms/step - loss: 0.3431 - rmse: 0.5858 - val_loss: 0.1122 - val_rmse: 0.3349\n",
            "Epoch 97/200\n",
            "127/127 [==============================] - 1s 6ms/step - loss: 0.2083 - rmse: 0.4564 - val_loss: 0.4104 - val_rmse: 0.6406\n",
            "Epoch 98/200\n",
            "127/127 [==============================] - 1s 6ms/step - loss: 0.2093 - rmse: 0.4575 - val_loss: 0.1746 - val_rmse: 0.4178\n",
            "Epoch 99/200\n",
            "127/127 [==============================] - 1s 6ms/step - loss: 0.1560 - rmse: 0.3950 - val_loss: 0.0880 - val_rmse: 0.2967\n",
            "Epoch 100/200\n",
            "127/127 [==============================] - 1s 7ms/step - loss: 0.1927 - rmse: 0.4390 - val_loss: 0.6063 - val_rmse: 0.7786\n",
            "Epoch 101/200\n",
            "127/127 [==============================] - 1s 6ms/step - loss: 0.3166 - rmse: 0.5627 - val_loss: 0.1355 - val_rmse: 0.3680\n",
            "Epoch 102/200\n",
            "127/127 [==============================] - 1s 7ms/step - loss: 0.1771 - rmse: 0.4208 - val_loss: 0.3000 - val_rmse: 0.5477\n",
            "Epoch 103/200\n",
            "127/127 [==============================] - 2s 11ms/step - loss: 0.1263 - rmse: 0.3554 - val_loss: 0.1654 - val_rmse: 0.4067\n",
            "Epoch 104/200\n",
            "127/127 [==============================] - 1s 6ms/step - loss: 0.2929 - rmse: 0.5412 - val_loss: 0.1755 - val_rmse: 0.4190\n",
            "Epoch 105/200\n",
            "127/127 [==============================] - 1s 6ms/step - loss: 0.3113 - rmse: 0.5580 - val_loss: 0.3236 - val_rmse: 0.5688\n",
            "Epoch 106/200\n",
            "127/127 [==============================] - 1s 6ms/step - loss: 0.2260 - rmse: 0.4754 - val_loss: 0.0952 - val_rmse: 0.3086\n",
            "Epoch 107/200\n",
            "127/127 [==============================] - 1s 7ms/step - loss: 0.1488 - rmse: 0.3858 - val_loss: 0.1130 - val_rmse: 0.3361\n",
            "Epoch 108/200\n",
            "127/127 [==============================] - 1s 6ms/step - loss: 0.2019 - rmse: 0.4494 - val_loss: 0.0735 - val_rmse: 0.2712\n",
            "Epoch 109/200\n",
            "127/127 [==============================] - 1s 6ms/step - loss: 0.1479 - rmse: 0.3846 - val_loss: 0.0945 - val_rmse: 0.3075\n",
            "Epoch 110/200\n",
            "127/127 [==============================] - 1s 6ms/step - loss: 0.1209 - rmse: 0.3477 - val_loss: 0.2196 - val_rmse: 0.4686\n",
            "Epoch 111/200\n",
            "127/127 [==============================] - 1s 8ms/step - loss: 0.1949 - rmse: 0.4414 - val_loss: 0.1656 - val_rmse: 0.4070\n",
            "Epoch 112/200\n",
            "127/127 [==============================] - 2s 12ms/step - loss: 0.2708 - rmse: 0.5204 - val_loss: 0.2207 - val_rmse: 0.4698\n",
            "Epoch 113/200\n",
            "127/127 [==============================] - 1s 7ms/step - loss: 0.2554 - rmse: 0.5054 - val_loss: 0.2597 - val_rmse: 0.5096\n",
            "Epoch 114/200\n",
            "127/127 [==============================] - 1s 6ms/step - loss: 0.2759 - rmse: 0.5253 - val_loss: 0.2137 - val_rmse: 0.4622\n",
            "Epoch 115/200\n",
            "127/127 [==============================] - 1s 6ms/step - loss: 0.1873 - rmse: 0.4328 - val_loss: 0.2075 - val_rmse: 0.4555\n",
            "Epoch 116/200\n",
            "127/127 [==============================] - 1s 7ms/step - loss: 0.1505 - rmse: 0.3879 - val_loss: 0.0785 - val_rmse: 0.2802\n",
            "Epoch 117/200\n",
            "127/127 [==============================] - 1s 6ms/step - loss: 0.1088 - rmse: 0.3299 - val_loss: 0.0751 - val_rmse: 0.2741\n",
            "Epoch 118/200\n",
            "127/127 [==============================] - 1s 7ms/step - loss: 0.1302 - rmse: 0.3609 - val_loss: 0.2202 - val_rmse: 0.4692\n",
            "Epoch 119/200\n",
            "127/127 [==============================] - 1s 6ms/step - loss: 0.1859 - rmse: 0.4312 - val_loss: 0.0813 - val_rmse: 0.2851\n",
            "Epoch 120/200\n",
            "127/127 [==============================] - 1s 7ms/step - loss: 0.1697 - rmse: 0.4120 - val_loss: 0.1583 - val_rmse: 0.3979\n",
            "Epoch 121/200\n",
            "127/127 [==============================] - 1s 8ms/step - loss: 0.1372 - rmse: 0.3705 - val_loss: 0.0677 - val_rmse: 0.2602\n",
            "Epoch 122/200\n",
            "127/127 [==============================] - 1s 11ms/step - loss: 0.2949 - rmse: 0.5431 - val_loss: 0.4005 - val_rmse: 0.6329\n",
            "Epoch 123/200\n",
            "127/127 [==============================] - 1s 6ms/step - loss: 0.2117 - rmse: 0.4601 - val_loss: 0.0752 - val_rmse: 0.2743\n",
            "Epoch 124/200\n",
            "127/127 [==============================] - 1s 6ms/step - loss: 0.1467 - rmse: 0.3830 - val_loss: 0.5618 - val_rmse: 0.7496\n",
            "Epoch 125/200\n",
            "127/127 [==============================] - 1s 6ms/step - loss: 0.3015 - rmse: 0.5491 - val_loss: 0.4418 - val_rmse: 0.6647\n",
            "Epoch 126/200\n",
            "127/127 [==============================] - 1s 6ms/step - loss: 0.2667 - rmse: 0.5164 - val_loss: 0.0920 - val_rmse: 0.3033\n",
            "Epoch 127/200\n",
            "127/127 [==============================] - 1s 6ms/step - loss: 0.1091 - rmse: 0.3303 - val_loss: 0.0693 - val_rmse: 0.2633\n",
            "Epoch 128/200\n",
            "127/127 [==============================] - 1s 6ms/step - loss: 0.1211 - rmse: 0.3480 - val_loss: 0.2123 - val_rmse: 0.4607\n",
            "Epoch 129/200\n",
            "127/127 [==============================] - 1s 6ms/step - loss: 0.1687 - rmse: 0.4108 - val_loss: 0.2732 - val_rmse: 0.5227\n",
            "Epoch 130/200\n",
            "127/127 [==============================] - 1s 8ms/step - loss: 0.5425 - rmse: 0.7365 - val_loss: 0.3613 - val_rmse: 0.6011\n",
            "Epoch 131/200\n",
            "127/127 [==============================] - 1s 11ms/step - loss: 0.1679 - rmse: 0.4098 - val_loss: 0.1753 - val_rmse: 0.4187\n",
            "Epoch 132/200\n",
            "127/127 [==============================] - 1s 6ms/step - loss: 0.1006 - rmse: 0.3171 - val_loss: 0.0538 - val_rmse: 0.2320\n",
            "Epoch 133/200\n",
            "127/127 [==============================] - 1s 6ms/step - loss: 0.0905 - rmse: 0.3009 - val_loss: 0.1163 - val_rmse: 0.3411\n",
            "Epoch 134/200\n",
            "127/127 [==============================] - 1s 6ms/step - loss: 0.1171 - rmse: 0.3422 - val_loss: 0.1581 - val_rmse: 0.3976\n",
            "Epoch 135/200\n",
            "127/127 [==============================] - 1s 7ms/step - loss: 0.1166 - rmse: 0.3415 - val_loss: 0.1709 - val_rmse: 0.4134\n",
            "Epoch 136/200\n",
            "127/127 [==============================] - 1s 6ms/step - loss: 0.1194 - rmse: 0.3456 - val_loss: 0.0921 - val_rmse: 0.3036\n",
            "Epoch 137/200\n",
            "127/127 [==============================] - 1s 6ms/step - loss: 0.1206 - rmse: 0.3473 - val_loss: 0.0996 - val_rmse: 0.3155\n",
            "Epoch 138/200\n",
            "127/127 [==============================] - 1s 6ms/step - loss: 0.2550 - rmse: 0.5050 - val_loss: 0.6762 - val_rmse: 0.8223\n",
            "Epoch 139/200\n",
            "127/127 [==============================] - 1s 7ms/step - loss: 0.2386 - rmse: 0.4885 - val_loss: 0.0626 - val_rmse: 0.2502\n",
            "Epoch 140/200\n",
            "127/127 [==============================] - 2s 12ms/step - loss: 0.0883 - rmse: 0.2971 - val_loss: 0.0644 - val_rmse: 0.2537\n",
            "Epoch 141/200\n",
            "127/127 [==============================] - 1s 6ms/step - loss: 0.1541 - rmse: 0.3926 - val_loss: 0.3823 - val_rmse: 0.6183\n",
            "Epoch 142/200\n",
            "127/127 [==============================] - 1s 7ms/step - loss: 0.1898 - rmse: 0.4356 - val_loss: 0.1572 - val_rmse: 0.3965\n",
            "Epoch 143/200\n",
            "127/127 [==============================] - 1s 7ms/step - loss: 0.0835 - rmse: 0.2889 - val_loss: 0.1233 - val_rmse: 0.3511\n",
            "Epoch 144/200\n",
            "127/127 [==============================] - 1s 6ms/step - loss: 0.0853 - rmse: 0.2920 - val_loss: 0.2107 - val_rmse: 0.4590\n",
            "Epoch 145/200\n",
            "127/127 [==============================] - 1s 7ms/step - loss: 0.2295 - rmse: 0.4791 - val_loss: 0.2412 - val_rmse: 0.4911\n",
            "Epoch 146/200\n",
            "127/127 [==============================] - 1s 7ms/step - loss: 0.3708 - rmse: 0.6089 - val_loss: 0.1190 - val_rmse: 0.3449\n",
            "Epoch 147/200\n",
            "127/127 [==============================] - 1s 7ms/step - loss: 0.1128 - rmse: 0.3359 - val_loss: 0.0449 - val_rmse: 0.2118\n",
            "Epoch 148/200\n",
            "127/127 [==============================] - 1s 6ms/step - loss: 0.0890 - rmse: 0.2984 - val_loss: 0.1415 - val_rmse: 0.3762\n",
            "Epoch 149/200\n",
            "127/127 [==============================] - 2s 12ms/step - loss: 0.2370 - rmse: 0.4868 - val_loss: 0.2734 - val_rmse: 0.5228\n",
            "Epoch 150/200\n",
            "127/127 [==============================] - 1s 6ms/step - loss: 0.2150 - rmse: 0.4637 - val_loss: 0.1385 - val_rmse: 0.3722\n",
            "Epoch 151/200\n",
            "127/127 [==============================] - 1s 7ms/step - loss: 0.1254 - rmse: 0.3540 - val_loss: 0.0962 - val_rmse: 0.3101\n",
            "Epoch 152/200\n",
            "127/127 [==============================] - 1s 6ms/step - loss: 0.1186 - rmse: 0.3443 - val_loss: 0.1424 - val_rmse: 0.3774\n",
            "Epoch 153/200\n",
            "127/127 [==============================] - 1s 7ms/step - loss: 0.2347 - rmse: 0.4844 - val_loss: 0.3068 - val_rmse: 0.5539\n",
            "Epoch 154/200\n",
            "127/127 [==============================] - 1s 6ms/step - loss: 0.1517 - rmse: 0.3895 - val_loss: 0.0519 - val_rmse: 0.2279\n",
            "Epoch 155/200\n",
            "127/127 [==============================] - 1s 7ms/step - loss: 0.0647 - rmse: 0.2544 - val_loss: 0.0521 - val_rmse: 0.2283\n",
            "Epoch 156/200\n",
            "127/127 [==============================] - 1s 6ms/step - loss: 0.1187 - rmse: 0.3445 - val_loss: 0.1333 - val_rmse: 0.3651\n",
            "Epoch 157/200\n",
            "127/127 [==============================] - 1s 9ms/step - loss: 0.1265 - rmse: 0.3557 - val_loss: 0.1240 - val_rmse: 0.3522\n",
            "Epoch 158/200\n",
            "127/127 [==============================] - 2s 12ms/step - loss: 0.0818 - rmse: 0.2860 - val_loss: 0.0515 - val_rmse: 0.2269\n",
            "Epoch 159/200\n",
            "127/127 [==============================] - 1s 7ms/step - loss: 0.0869 - rmse: 0.2947 - val_loss: 0.1650 - val_rmse: 0.4061\n",
            "Epoch 160/200\n",
            "127/127 [==============================] - 1s 7ms/step - loss: 0.1489 - rmse: 0.3859 - val_loss: 0.0377 - val_rmse: 0.1942\n",
            "Epoch 161/200\n",
            "127/127 [==============================] - 1s 7ms/step - loss: 0.2112 - rmse: 0.4595 - val_loss: 0.6116 - val_rmse: 0.7821\n",
            "Epoch 162/200\n",
            "127/127 [==============================] - 1s 6ms/step - loss: 0.2666 - rmse: 0.5163 - val_loss: 0.4499 - val_rmse: 0.6707\n",
            "Epoch 163/200\n",
            "127/127 [==============================] - 1s 7ms/step - loss: 0.3082 - rmse: 0.5551 - val_loss: 0.2051 - val_rmse: 0.4528\n",
            "Epoch 164/200\n",
            "127/127 [==============================] - 1s 6ms/step - loss: 0.1050 - rmse: 0.3240 - val_loss: 0.0394 - val_rmse: 0.1984\n",
            "Epoch 165/200\n",
            "127/127 [==============================] - 1s 7ms/step - loss: 0.1135 - rmse: 0.3369 - val_loss: 0.0918 - val_rmse: 0.3029\n",
            "Epoch 166/200\n",
            "127/127 [==============================] - 1s 7ms/step - loss: 0.0959 - rmse: 0.3096 - val_loss: 0.1305 - val_rmse: 0.3612\n",
            "Epoch 167/200\n",
            "127/127 [==============================] - 1s 10ms/step - loss: 0.0764 - rmse: 0.2764 - val_loss: 0.0782 - val_rmse: 0.2797\n",
            "Epoch 168/200\n",
            "127/127 [==============================] - 1s 6ms/step - loss: 0.0876 - rmse: 0.2960 - val_loss: 0.0670 - val_rmse: 0.2588\n",
            "Epoch 169/200\n",
            "127/127 [==============================] - 1s 6ms/step - loss: 0.1550 - rmse: 0.3937 - val_loss: 0.1688 - val_rmse: 0.4109\n",
            "Epoch 170/200\n",
            "127/127 [==============================] - 1s 6ms/step - loss: 0.1617 - rmse: 0.4022 - val_loss: 0.1260 - val_rmse: 0.3550\n",
            "Epoch 171/200\n",
            "127/127 [==============================] - 1s 6ms/step - loss: 0.0672 - rmse: 0.2592 - val_loss: 0.0563 - val_rmse: 0.2373\n",
            "Epoch 172/200\n",
            "127/127 [==============================] - 1s 7ms/step - loss: 0.0467 - rmse: 0.2162 - val_loss: 0.0266 - val_rmse: 0.1630\n",
            "Epoch 173/200\n",
            "127/127 [==============================] - 1s 6ms/step - loss: 0.1202 - rmse: 0.3467 - val_loss: 0.2856 - val_rmse: 0.5344\n",
            "Epoch 174/200\n",
            "127/127 [==============================] - 1s 6ms/step - loss: 0.1632 - rmse: 0.4040 - val_loss: 0.1052 - val_rmse: 0.3243\n",
            "Epoch 175/200\n",
            "127/127 [==============================] - 1s 6ms/step - loss: 0.1678 - rmse: 0.4096 - val_loss: 0.1896 - val_rmse: 0.4354\n",
            "Epoch 176/200\n",
            "127/127 [==============================] - 1s 10ms/step - loss: 0.3006 - rmse: 0.5482 - val_loss: 0.2154 - val_rmse: 0.4641\n",
            "Epoch 177/200\n",
            "127/127 [==============================] - 1s 11ms/step - loss: 0.0947 - rmse: 0.3078 - val_loss: 0.1143 - val_rmse: 0.3381\n",
            "Epoch 178/200\n",
            "127/127 [==============================] - 1s 7ms/step - loss: 0.0673 - rmse: 0.2595 - val_loss: 0.0621 - val_rmse: 0.2492\n",
            "Epoch 179/200\n",
            "127/127 [==============================] - 1s 7ms/step - loss: 0.1341 - rmse: 0.3662 - val_loss: 0.1135 - val_rmse: 0.3369\n",
            "Epoch 180/200\n",
            "127/127 [==============================] - 1s 7ms/step - loss: 0.1324 - rmse: 0.3638 - val_loss: 0.0283 - val_rmse: 0.1684\n",
            "Epoch 181/200\n",
            "127/127 [==============================] - 1s 6ms/step - loss: 0.0959 - rmse: 0.3097 - val_loss: 0.0814 - val_rmse: 0.2853\n",
            "Epoch 182/200\n",
            "127/127 [==============================] - 1s 6ms/step - loss: 0.0900 - rmse: 0.3000 - val_loss: 0.0643 - val_rmse: 0.2535\n",
            "Epoch 183/200\n",
            "127/127 [==============================] - 1s 6ms/step - loss: 0.1927 - rmse: 0.4390 - val_loss: 0.0684 - val_rmse: 0.2615\n",
            "Epoch 184/200\n",
            "127/127 [==============================] - 1s 7ms/step - loss: 0.1390 - rmse: 0.3728 - val_loss: 0.1226 - val_rmse: 0.3501\n",
            "Epoch 185/200\n",
            "127/127 [==============================] - 1s 6ms/step - loss: 0.0945 - rmse: 0.3074 - val_loss: 0.0810 - val_rmse: 0.2846\n",
            "Epoch 186/200\n",
            "127/127 [==============================] - 2s 11ms/step - loss: 0.0802 - rmse: 0.2832 - val_loss: 0.0295 - val_rmse: 0.1717\n",
            "Epoch 187/200\n",
            "127/127 [==============================] - 1s 7ms/step - loss: 0.0572 - rmse: 0.2391 - val_loss: 0.1090 - val_rmse: 0.3302\n",
            "Epoch 188/200\n",
            "127/127 [==============================] - 1s 6ms/step - loss: 0.3268 - rmse: 0.5716 - val_loss: 0.1580 - val_rmse: 0.3974\n",
            "Epoch 189/200\n",
            "127/127 [==============================] - 1s 7ms/step - loss: 0.1172 - rmse: 0.3424 - val_loss: 0.0477 - val_rmse: 0.2185\n",
            "Epoch 190/200\n",
            "127/127 [==============================] - 1s 6ms/step - loss: 0.0735 - rmse: 0.2710 - val_loss: 0.0518 - val_rmse: 0.2275\n",
            "Epoch 191/200\n",
            "127/127 [==============================] - 1s 8ms/step - loss: 0.1181 - rmse: 0.3437 - val_loss: 0.0682 - val_rmse: 0.2612\n",
            "Epoch 192/200\n",
            "127/127 [==============================] - 1s 6ms/step - loss: 0.1149 - rmse: 0.3390 - val_loss: 0.0514 - val_rmse: 0.2267\n",
            "Epoch 193/200\n",
            "127/127 [==============================] - 1s 6ms/step - loss: 0.1076 - rmse: 0.3280 - val_loss: 0.0580 - val_rmse: 0.2407\n",
            "Epoch 194/200\n",
            "127/127 [==============================] - 1s 7ms/step - loss: 0.1157 - rmse: 0.3402 - val_loss: 0.0932 - val_rmse: 0.3054\n",
            "Epoch 195/200\n",
            "127/127 [==============================] - 1s 11ms/step - loss: 0.1243 - rmse: 0.3526 - val_loss: 0.1065 - val_rmse: 0.3263\n",
            "Epoch 196/200\n",
            "127/127 [==============================] - 1s 7ms/step - loss: 0.2069 - rmse: 0.4548 - val_loss: 0.0954 - val_rmse: 0.3088\n",
            "Epoch 197/200\n",
            "127/127 [==============================] - 1s 7ms/step - loss: 0.0982 - rmse: 0.3134 - val_loss: 0.1613 - val_rmse: 0.4016\n",
            "Epoch 198/200\n",
            "127/127 [==============================] - 1s 7ms/step - loss: 0.1476 - rmse: 0.3842 - val_loss: 0.0757 - val_rmse: 0.2752\n",
            "Epoch 199/200\n",
            "127/127 [==============================] - 1s 6ms/step - loss: 0.0854 - rmse: 0.2923 - val_loss: 0.0436 - val_rmse: 0.2089\n",
            "Epoch 200/200\n",
            "127/127 [==============================] - 1s 6ms/step - loss: 0.0432 - rmse: 0.2078 - val_loss: 0.0118 - val_rmse: 0.1086\n"
          ]
        }
      ]
    },
    {
      "cell_type": "code",
      "source": [
        "import matplotlib.pyplot as plt\n",
        "\n",
        "plt.plot(history.history['loss'],label = \"loss\")\n",
        "plt.plot(history.history['val_loss'], label = \"val_loss\")\n",
        "plt.plot(history.history['rmse'], label = \"RMSE\")\n",
        "plt.legend(loc=\"upper right\")"
      ],
      "metadata": {
        "colab": {
          "base_uri": "https://localhost:8080/",
          "height": 282
        },
        "id": "258ehTil4Umv",
        "outputId": "8ebf06cb-95e4-47bd-c0ce-dcceed4b016d"
      },
      "execution_count": null,
      "outputs": [
        {
          "output_type": "execute_result",
          "data": {
            "text/plain": [
              "<matplotlib.legend.Legend at 0x7f77cfdefcd0>"
            ]
          },
          "metadata": {},
          "execution_count": 21
        },
        {
          "output_type": "display_data",
          "data": {
            "text/plain": [
              "<Figure size 432x288 with 1 Axes>"
            ],
            "image/png": "[encoded data removed]"
          },
          "metadata": {
            "needs_background": "light"
          }
        }
      ]
    },
    {
      "cell_type": "code",
      "source": [
        "model.evaluate(ds_test)"
      ],
      "metadata": {
        "colab": {
          "base_uri": "https://localhost:8080/"
        },
        "id": "etcB0RkA6COy",
        "outputId": "c22dfca6-e1aa-482b-ceb8-38330c7035a8"
      },
      "execution_count": null,
      "outputs": [
        {
          "output_type": "stream",
          "name": "stdout",
          "text": [
            "1/1 [==============================] - 0s 124ms/step - loss: 0.0278 - rmse: 0.1668\n"
          ]
        },
        {
          "output_type": "execute_result",
          "data": {
            "text/plain": [
              "[0.027816731482744217, 0.16678348183631897]"
            ]
          },
          "metadata": {},
          "execution_count": 16
        }
      ]
    },
    {
      "cell_type": "markdown",
      "source": [
        "The loss and rmse values have both improved when training the model with 200 epochs.\n",
        "Below I am trying to reduce the complexity of the model by reducing the number of hidden layers and see if I can achieve similar results to those in the first model."
      ],
      "metadata": {
        "id": "il7pIf_UHojb"
      }
    },
    {
      "cell_type": "code",
      "source": [
        "tf.keras.backend.clear_session()\n",
        "\n",
        "model1 = tf.keras.models.Sequential([\n",
        "    tf.keras.layers.Dense(64, activation=\"relu\",input_shape=(13,)),\n",
        "    tf.keras.layers.Dense(32, activation=\"relu\"),\n",
        "    tf.keras.layers.Dense(18, activation=\"relu\"),\n",
        "    tf.keras.layers.Dense(8, activation=\"relu\"),\n",
        "    tf.keras.layers.Dense(1),\n",
        "])\n",
        "\n",
        "model.compile(loss='mse', optimizer=tf.keras.optimizers.Adam(learning_rate=0.001),\n",
        "              metrics = tf.keras.metrics.RootMeanSquaredError(name='rmse',dtype = None))\n",
        "\n",
        "history1 = model.fit(ds_train, epochs=100, validation_data=ds_val)"
      ],
      "metadata": {
        "colab": {
          "base_uri": "https://localhost:8080/"
        },
        "id": "Uwam4m8O-AhW",
        "outputId": "e9af52d7-759e-42d2-bf07-1563afb50393"
      },
      "execution_count": 16,
      "outputs": [
        {
          "output_type": "stream",
          "name": "stdout",
          "text": [
            "Epoch 1/100\n",
            "127/127 [==============================] - 2s 8ms/step - loss: 0.1583 - rmse: 0.3979 - val_loss: 0.0248 - val_rmse: 0.1574\n",
            "Epoch 2/100\n",
            "127/127 [==============================] - 1s 6ms/step - loss: 0.0744 - rmse: 0.2727 - val_loss: 0.0937 - val_rmse: 0.3061\n",
            "Epoch 3/100\n",
            "127/127 [==============================] - 1s 7ms/step - loss: 0.0868 - rmse: 0.2947 - val_loss: 0.1182 - val_rmse: 0.3438\n",
            "Epoch 4/100\n",
            "127/127 [==============================] - 1s 10ms/step - loss: 0.2306 - rmse: 0.4802 - val_loss: 0.1010 - val_rmse: 0.3178\n",
            "Epoch 5/100\n",
            "127/127 [==============================] - 1s 6ms/step - loss: 0.0363 - rmse: 0.1905 - val_loss: 0.0330 - val_rmse: 0.1818\n",
            "Epoch 6/100\n",
            "127/127 [==============================] - 1s 6ms/step - loss: 0.0534 - rmse: 0.2311 - val_loss: 0.0538 - val_rmse: 0.2319\n",
            "Epoch 7/100\n",
            "127/127 [==============================] - 2s 16ms/step - loss: 0.1883 - rmse: 0.4340 - val_loss: 0.2125 - val_rmse: 0.4610\n",
            "Epoch 8/100\n",
            "127/127 [==============================] - 2s 12ms/step - loss: 0.1663 - rmse: 0.4078 - val_loss: 0.1215 - val_rmse: 0.3486\n",
            "Epoch 9/100\n",
            "127/127 [==============================] - 2s 13ms/step - loss: 0.0628 - rmse: 0.2506 - val_loss: 0.0846 - val_rmse: 0.2909\n",
            "Epoch 10/100\n",
            "127/127 [==============================] - 3s 17ms/step - loss: 0.0892 - rmse: 0.2987 - val_loss: 0.0745 - val_rmse: 0.2729\n",
            "Epoch 11/100\n",
            "127/127 [==============================] - 2s 16ms/step - loss: 0.1574 - rmse: 0.3968 - val_loss: 0.3901 - val_rmse: 0.6246\n",
            "Epoch 12/100\n",
            "127/127 [==============================] - 2s 13ms/step - loss: 0.2438 - rmse: 0.4938 - val_loss: 0.2636 - val_rmse: 0.5134\n",
            "Epoch 13/100\n",
            "127/127 [==============================] - 2s 11ms/step - loss: 0.1479 - rmse: 0.3846 - val_loss: 0.0602 - val_rmse: 0.2454\n",
            "Epoch 14/100\n",
            "127/127 [==============================] - 1s 10ms/step - loss: 0.0406 - rmse: 0.2016 - val_loss: 0.0261 - val_rmse: 0.1617\n",
            "Epoch 15/100\n",
            "127/127 [==============================] - 2s 14ms/step - loss: 0.0515 - rmse: 0.2270 - val_loss: 0.0257 - val_rmse: 0.1603\n",
            "Epoch 16/100\n",
            "127/127 [==============================] - 3s 21ms/step - loss: 0.0543 - rmse: 0.2330 - val_loss: 0.0496 - val_rmse: 0.2227\n",
            "Epoch 17/100\n",
            "127/127 [==============================] - 1s 6ms/step - loss: 0.0630 - rmse: 0.2511 - val_loss: 0.0752 - val_rmse: 0.2742\n",
            "Epoch 18/100\n",
            "127/127 [==============================] - 1s 6ms/step - loss: 0.2010 - rmse: 0.4484 - val_loss: 0.2511 - val_rmse: 0.5011\n",
            "Epoch 19/100\n",
            "127/127 [==============================] - 1s 7ms/step - loss: 0.2265 - rmse: 0.4759 - val_loss: 0.1842 - val_rmse: 0.4291\n",
            "Epoch 20/100\n",
            "127/127 [==============================] - 1s 11ms/step - loss: 0.1492 - rmse: 0.3862 - val_loss: 0.1138 - val_rmse: 0.3373\n",
            "Epoch 21/100\n",
            "127/127 [==============================] - 2s 12ms/step - loss: 0.0735 - rmse: 0.2711 - val_loss: 0.0780 - val_rmse: 0.2792\n",
            "Epoch 22/100\n",
            "127/127 [==============================] - 2s 16ms/step - loss: 0.0730 - rmse: 0.2701 - val_loss: 0.0574 - val_rmse: 0.2396\n",
            "Epoch 23/100\n",
            "127/127 [==============================] - 2s 11ms/step - loss: 0.0733 - rmse: 0.2708 - val_loss: 0.0540 - val_rmse: 0.2323\n",
            "Epoch 24/100\n",
            "127/127 [==============================] - 1s 11ms/step - loss: 0.0695 - rmse: 0.2636 - val_loss: 0.0416 - val_rmse: 0.2039\n",
            "Epoch 25/100\n",
            "127/127 [==============================] - 1s 6ms/step - loss: 0.0595 - rmse: 0.2438 - val_loss: 0.0374 - val_rmse: 0.1933\n",
            "Epoch 26/100\n",
            "127/127 [==============================] - 1s 6ms/step - loss: 0.1587 - rmse: 0.3983 - val_loss: 0.2528 - val_rmse: 0.5028\n",
            "Epoch 27/100\n",
            "127/127 [==============================] - 1s 6ms/step - loss: 0.1225 - rmse: 0.3501 - val_loss: 0.0624 - val_rmse: 0.2498\n",
            "Epoch 28/100\n",
            "127/127 [==============================] - 1s 6ms/step - loss: 0.0551 - rmse: 0.2348 - val_loss: 0.0315 - val_rmse: 0.1774\n",
            "Epoch 29/100\n",
            "127/127 [==============================] - 1s 7ms/step - loss: 0.1485 - rmse: 0.3854 - val_loss: 0.5101 - val_rmse: 0.7142\n",
            "Epoch 30/100\n",
            "127/127 [==============================] - 1s 10ms/step - loss: 0.3987 - rmse: 0.6314 - val_loss: 0.1740 - val_rmse: 0.4171\n",
            "Epoch 31/100\n",
            "127/127 [==============================] - 1s 8ms/step - loss: 0.1092 - rmse: 0.3304 - val_loss: 0.0474 - val_rmse: 0.2177\n",
            "Epoch 32/100\n",
            "127/127 [==============================] - 1s 6ms/step - loss: 0.0521 - rmse: 0.2283 - val_loss: 0.0375 - val_rmse: 0.1936\n",
            "Epoch 33/100\n",
            "127/127 [==============================] - 1s 6ms/step - loss: 0.0539 - rmse: 0.2322 - val_loss: 0.0277 - val_rmse: 0.1663\n",
            "Epoch 34/100\n",
            "127/127 [==============================] - 1s 6ms/step - loss: 0.0198 - rmse: 0.1407 - val_loss: 0.0152 - val_rmse: 0.1233\n",
            "Epoch 35/100\n",
            "127/127 [==============================] - 1s 5ms/step - loss: 0.0414 - rmse: 0.2034 - val_loss: 0.1668 - val_rmse: 0.4085\n",
            "Epoch 36/100\n",
            "127/127 [==============================] - 1s 6ms/step - loss: 0.1545 - rmse: 0.3931 - val_loss: 0.1236 - val_rmse: 0.3516\n",
            "Epoch 37/100\n",
            "127/127 [==============================] - 1s 6ms/step - loss: 0.0879 - rmse: 0.2965 - val_loss: 0.0441 - val_rmse: 0.2101\n",
            "Epoch 38/100\n",
            "127/127 [==============================] - 1s 6ms/step - loss: 0.0765 - rmse: 0.2766 - val_loss: 0.0757 - val_rmse: 0.2751\n",
            "Epoch 39/100\n",
            "127/127 [==============================] - 1s 6ms/step - loss: 0.0932 - rmse: 0.3053 - val_loss: 0.0422 - val_rmse: 0.2054\n",
            "Epoch 40/100\n",
            "127/127 [==============================] - 1s 6ms/step - loss: 0.0742 - rmse: 0.2724 - val_loss: 0.1720 - val_rmse: 0.4147\n",
            "Epoch 41/100\n",
            "127/127 [==============================] - 1s 10ms/step - loss: 0.0645 - rmse: 0.2540 - val_loss: 0.0528 - val_rmse: 0.2297\n",
            "Epoch 42/100\n",
            "127/127 [==============================] - 1s 9ms/step - loss: 0.0857 - rmse: 0.2928 - val_loss: 0.0734 - val_rmse: 0.2709\n",
            "Epoch 43/100\n",
            "127/127 [==============================] - 1s 6ms/step - loss: 0.1086 - rmse: 0.3295 - val_loss: 0.0527 - val_rmse: 0.2295\n",
            "Epoch 44/100\n",
            "127/127 [==============================] - 1s 6ms/step - loss: 0.1024 - rmse: 0.3200 - val_loss: 0.1681 - val_rmse: 0.4100\n",
            "Epoch 45/100\n",
            "127/127 [==============================] - 1s 6ms/step - loss: 0.1457 - rmse: 0.3817 - val_loss: 0.2351 - val_rmse: 0.4848\n",
            "Epoch 46/100\n",
            "127/127 [==============================] - 1s 6ms/step - loss: 0.1834 - rmse: 0.4282 - val_loss: 0.2759 - val_rmse: 0.5252\n",
            "Epoch 47/100\n",
            "127/127 [==============================] - 1s 6ms/step - loss: 0.2718 - rmse: 0.5213 - val_loss: 0.1675 - val_rmse: 0.4092\n",
            "Epoch 48/100\n",
            "127/127 [==============================] - 1s 6ms/step - loss: 0.0811 - rmse: 0.2848 - val_loss: 0.0497 - val_rmse: 0.2230\n",
            "Epoch 49/100\n",
            "127/127 [==============================] - 1s 6ms/step - loss: 0.0168 - rmse: 0.1297 - val_loss: 0.0062 - val_rmse: 0.0788\n",
            "Epoch 50/100\n",
            "127/127 [==============================] - 1s 6ms/step - loss: 0.0100 - rmse: 0.0999 - val_loss: 0.0064 - val_rmse: 0.0803\n",
            "Epoch 51/100\n",
            "127/127 [==============================] - 1s 11ms/step - loss: 0.0548 - rmse: 0.2341 - val_loss: 0.1123 - val_rmse: 0.3351\n",
            "Epoch 52/100\n",
            "127/127 [==============================] - 2s 12ms/step - loss: 0.2215 - rmse: 0.4707 - val_loss: 0.2985 - val_rmse: 0.5463\n",
            "Epoch 53/100\n",
            "127/127 [==============================] - 1s 8ms/step - loss: 0.0945 - rmse: 0.3073 - val_loss: 0.0407 - val_rmse: 0.2018\n",
            "Epoch 54/100\n",
            "127/127 [==============================] - 1s 8ms/step - loss: 0.0251 - rmse: 0.1584 - val_loss: 0.0322 - val_rmse: 0.1794\n",
            "Epoch 55/100\n",
            "127/127 [==============================] - 1s 9ms/step - loss: 0.0328 - rmse: 0.1812 - val_loss: 0.0418 - val_rmse: 0.2045\n",
            "Epoch 56/100\n",
            "127/127 [==============================] - 1s 10ms/step - loss: 0.1350 - rmse: 0.3674 - val_loss: 0.0680 - val_rmse: 0.2607\n",
            "Epoch 57/100\n",
            "127/127 [==============================] - 1s 9ms/step - loss: 0.0750 - rmse: 0.2738 - val_loss: 0.1129 - val_rmse: 0.3360\n",
            "Epoch 58/100\n",
            "127/127 [==============================] - 2s 12ms/step - loss: 0.1152 - rmse: 0.3394 - val_loss: 0.0622 - val_rmse: 0.2493\n",
            "Epoch 59/100\n",
            "127/127 [==============================] - 1s 7ms/step - loss: 0.0855 - rmse: 0.2924 - val_loss: 0.1768 - val_rmse: 0.4204\n",
            "Epoch 60/100\n",
            "127/127 [==============================] - 1s 8ms/step - loss: 0.0837 - rmse: 0.2894 - val_loss: 0.0917 - val_rmse: 0.3028\n",
            "Epoch 61/100\n",
            "127/127 [==============================] - 1s 8ms/step - loss: 0.1878 - rmse: 0.4334 - val_loss: 0.1580 - val_rmse: 0.3975\n",
            "Epoch 62/100\n",
            "127/127 [==============================] - 1s 6ms/step - loss: 0.1160 - rmse: 0.3406 - val_loss: 0.0478 - val_rmse: 0.2187\n",
            "Epoch 63/100\n",
            "127/127 [==============================] - 1s 11ms/step - loss: 0.0410 - rmse: 0.2024 - val_loss: 0.0570 - val_rmse: 0.2388\n",
            "Epoch 64/100\n",
            "127/127 [==============================] - 1s 6ms/step - loss: 0.0870 - rmse: 0.2949 - val_loss: 0.0340 - val_rmse: 0.1843\n",
            "Epoch 65/100\n",
            "127/127 [==============================] - 1s 6ms/step - loss: 0.0643 - rmse: 0.2537 - val_loss: 0.0552 - val_rmse: 0.2349\n",
            "Epoch 66/100\n",
            "127/127 [==============================] - 2s 14ms/step - loss: 0.1773 - rmse: 0.4211 - val_loss: 0.1119 - val_rmse: 0.3346\n",
            "Epoch 67/100\n",
            "127/127 [==============================] - 1s 6ms/step - loss: 0.3888 - rmse: 0.6236 - val_loss: 0.3744 - val_rmse: 0.6119\n",
            "Epoch 68/100\n",
            "127/127 [==============================] - 1s 8ms/step - loss: 0.1028 - rmse: 0.3206 - val_loss: 0.0131 - val_rmse: 0.1147\n",
            "Epoch 69/100\n",
            "127/127 [==============================] - 1s 10ms/step - loss: 0.0186 - rmse: 0.1362 - val_loss: 0.0282 - val_rmse: 0.1680\n",
            "Epoch 70/100\n",
            "127/127 [==============================] - 1s 8ms/step - loss: 0.0274 - rmse: 0.1656 - val_loss: 0.0722 - val_rmse: 0.2687\n",
            "Epoch 71/100\n",
            "127/127 [==============================] - 1s 6ms/step - loss: 0.0184 - rmse: 0.1357 - val_loss: 0.0156 - val_rmse: 0.1248\n",
            "Epoch 72/100\n",
            "127/127 [==============================] - 1s 11ms/step - loss: 0.0231 - rmse: 0.1521 - val_loss: 0.0397 - val_rmse: 0.1992\n",
            "Epoch 73/100\n",
            "127/127 [==============================] - 2s 14ms/step - loss: 0.1076 - rmse: 0.3281 - val_loss: 0.1156 - val_rmse: 0.3399\n",
            "Epoch 74/100\n",
            "127/127 [==============================] - 1s 9ms/step - loss: 0.0980 - rmse: 0.3130 - val_loss: 0.0902 - val_rmse: 0.3003\n",
            "Epoch 75/100\n",
            "127/127 [==============================] - 1s 6ms/step - loss: 0.2986 - rmse: 0.5465 - val_loss: 0.0925 - val_rmse: 0.3041\n",
            "Epoch 76/100\n",
            "127/127 [==============================] - 1s 7ms/step - loss: 0.2631 - rmse: 0.5130 - val_loss: 0.0504 - val_rmse: 0.2246\n",
            "Epoch 77/100\n",
            "127/127 [==============================] - 1s 6ms/step - loss: 0.0409 - rmse: 0.2022 - val_loss: 0.0138 - val_rmse: 0.1176\n",
            "Epoch 78/100\n",
            "127/127 [==============================] - 1s 6ms/step - loss: 0.0199 - rmse: 0.1409 - val_loss: 0.0111 - val_rmse: 0.1054\n",
            "Epoch 79/100\n",
            "127/127 [==============================] - 1s 6ms/step - loss: 0.0120 - rmse: 0.1096 - val_loss: 0.0104 - val_rmse: 0.1021\n",
            "Epoch 80/100\n",
            "127/127 [==============================] - 1s 6ms/step - loss: 0.0109 - rmse: 0.1044 - val_loss: 0.0081 - val_rmse: 0.0903\n",
            "Epoch 81/100\n",
            "127/127 [==============================] - 1s 10ms/step - loss: 0.0310 - rmse: 0.1761 - val_loss: 0.0333 - val_rmse: 0.1824\n",
            "Epoch 82/100\n",
            "127/127 [==============================] - 3s 24ms/step - loss: 0.1386 - rmse: 0.3723 - val_loss: 0.2710 - val_rmse: 0.5206\n",
            "Epoch 83/100\n",
            "127/127 [==============================] - 1s 6ms/step - loss: 0.1616 - rmse: 0.4020 - val_loss: 0.0663 - val_rmse: 0.2575\n",
            "Epoch 84/100\n",
            "127/127 [==============================] - 1s 7ms/step - loss: 0.0727 - rmse: 0.2696 - val_loss: 0.0256 - val_rmse: 0.1599\n",
            "Epoch 85/100\n",
            "127/127 [==============================] - 1s 6ms/step - loss: 0.0220 - rmse: 0.1482 - val_loss: 0.0258 - val_rmse: 0.1608\n",
            "Epoch 86/100\n",
            "127/127 [==============================] - 1s 7ms/step - loss: 0.0204 - rmse: 0.1428 - val_loss: 0.0278 - val_rmse: 0.1669\n",
            "Epoch 87/100\n",
            "127/127 [==============================] - 1s 6ms/step - loss: 0.1155 - rmse: 0.3399 - val_loss: 0.1872 - val_rmse: 0.4326\n",
            "Epoch 88/100\n",
            "127/127 [==============================] - 1s 7ms/step - loss: 0.2505 - rmse: 0.5005 - val_loss: 0.1013 - val_rmse: 0.3182\n",
            "Epoch 89/100\n",
            "127/127 [==============================] - 1s 6ms/step - loss: 0.1031 - rmse: 0.3211 - val_loss: 0.0659 - val_rmse: 0.2568\n",
            "Epoch 90/100\n",
            "127/127 [==============================] - 2s 11ms/step - loss: 0.0550 - rmse: 0.2344 - val_loss: 0.0908 - val_rmse: 0.3013\n",
            "Epoch 91/100\n",
            "127/127 [==============================] - 1s 8ms/step - loss: 0.0457 - rmse: 0.2138 - val_loss: 0.0368 - val_rmse: 0.1919\n",
            "Epoch 92/100\n",
            "127/127 [==============================] - 1s 10ms/step - loss: 0.0563 - rmse: 0.2373 - val_loss: 0.0283 - val_rmse: 0.1682\n",
            "Epoch 93/100\n",
            "127/127 [==============================] - 1s 6ms/step - loss: 0.0308 - rmse: 0.1756 - val_loss: 0.0213 - val_rmse: 0.1460\n",
            "Epoch 94/100\n",
            "127/127 [==============================] - 1s 6ms/step - loss: 0.0403 - rmse: 0.2007 - val_loss: 0.2298 - val_rmse: 0.4794\n",
            "Epoch 95/100\n",
            "127/127 [==============================] - 1s 6ms/step - loss: 0.1967 - rmse: 0.4435 - val_loss: 0.7106 - val_rmse: 0.8430\n",
            "Epoch 96/100\n",
            "127/127 [==============================] - 1s 6ms/step - loss: 0.2186 - rmse: 0.4675 - val_loss: 0.0429 - val_rmse: 0.2072\n",
            "Epoch 97/100\n",
            "127/127 [==============================] - 1s 6ms/step - loss: 0.0611 - rmse: 0.2471 - val_loss: 0.0860 - val_rmse: 0.2933\n",
            "Epoch 98/100\n",
            "127/127 [==============================] - 1s 11ms/step - loss: 0.0430 - rmse: 0.2073 - val_loss: 0.0190 - val_rmse: 0.1380\n",
            "Epoch 99/100\n",
            "127/127 [==============================] - 1s 8ms/step - loss: 0.0265 - rmse: 0.1628 - val_loss: 0.0277 - val_rmse: 0.1666\n",
            "Epoch 100/100\n",
            "127/127 [==============================] - 1s 7ms/step - loss: 0.0480 - rmse: 0.2192 - val_loss: 0.0235 - val_rmse: 0.1534\n"
          ]
        }
      ]
    },
    {
      "cell_type": "markdown",
      "source": [
        "The model did not improve."
      ],
      "metadata": {
        "id": "6d6n9_IcIVQw"
      }
    },
    {
      "cell_type": "code",
      "source": [
        "plt.plot(history1.history['loss'],label = \"loss\")\n",
        "plt.plot(history1.history['val_loss'], label = \"val_loss\")\n",
        "plt.plot(history1.history['rmse'], label = \"RMSE\")\n",
        "plt.legend(loc=\"upper right\")"
      ],
      "metadata": {
        "colab": {
          "base_uri": "https://localhost:8080/",
          "height": 282
        },
        "id": "OHvJ5FoYAUKI",
        "outputId": "099673dd-d93e-4973-fa3c-e6fe0bfb2918"
      },
      "execution_count": 17,
      "outputs": [
        {
          "output_type": "execute_result",
          "data": {
            "text/plain": [
              "<matplotlib.legend.Legend at 0x7fcb35b8cfd0>"
            ]
          },
          "metadata": {},
          "execution_count": 17
        },
        {
          "output_type": "display_data",
          "data": {
            "text/plain": [
              "<Figure size 432x288 with 1 Axes>"
            ],
            "image/png": "[encoded data removed]"
          },
          "metadata": {
            "needs_background": "light"
          }
        }
      ]
    }
  ]
}